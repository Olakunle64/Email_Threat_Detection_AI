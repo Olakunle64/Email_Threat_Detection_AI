{
 "cells": [
  {
   "cell_type": "markdown",
   "metadata": {},
   "source": [
    "# 📧 AI-Powered Email Threat Detection  \n",
    "### **Using Machine Learning to Identify Spam and Phishing Emails**  \n",
    "\n",
    "## 🚀 **Project Overview**  \n",
    "Email security is critical in today’s digital world, where phishing attacks, spam, and malicious emails pose significant risks. This project applies **Machine Learning (ML) and Large Language Models (LLMs)** to analyze email content and classify messages as **Spam or Safe**.  \n",
    "\n",
    "## 🔍 **Key Features**  \n",
    "✔️ **AI-Based Spam Classification**: Uses ML models to detect spam, phishing, and fraudulent emails.  \n",
    "✔️ **Feature Engineering**: Extracts key features such as **spam words, suspicious links, attachments, and sender reputation**.  \n",
    "✔️ **Automated Labeling**: Implements rule-based filtering to pre-label data before training.  \n",
    "✔️ **Supports Google Workspace**: Designed to work seamlessly with Gmail and other providers.  \n",
    "✔️ **Interactive UI**: A **Streamlit/React-based frontend** for real-time spam detection.  \n",
    "\n",
    "## 🛠 **Technologies Used**  \n",
    "- **Python** (Data Processing & ML)  \n",
    "- **Pandas & NumPy** (Data Handling)  \n",
    "- **Scikit-Learn & XGBoost** (Machine Learning)  \n",
    "- **NLP Techniques** (Text Preprocessing)  \n",
    "- **Google Gmail API** (Email Integration)  \n",
    "- **Flask/FastAPI** (Backend API)  \n",
    "- **React/Streamlit** (Frontend UI)  \n",
    "\n",
    "## 📌 **Workflow**  \n",
    "1️⃣ **Data Preprocessing**: Clean and extract features from raw email data.  \n",
    "2️⃣ **Automated Labeling**: Apply rule-based techniques to classify emails.  \n",
    "3️⃣ **Train Machine Learning Model**: Use Logistic Regression, Random Forest, or XGBoost.  \n",
    "4️⃣ **Evaluate Performance**: Assess accuracy, precision, recall, and F1-score.  \n",
    "5️⃣ **Deploy Model via API**: Flask/FastAPI backend to serve predictions.  \n",
    "6️⃣ **User Interface**: Web-based spam detection tool for real-time analysis.  \n",
    "\n",
    "## 📂 **Notebook Sections**  \n",
    "🔹 **1. Data Collection & Cleaning**  \n",
    "🔹 **2. Feature Extraction & Engineering**  \n",
    "🔹 **3. Rule-Based Labeling**  \n",
    "🔹 **4. Model Training & Evaluation**  \n",
    "🔹 **5. Deployment & API Integration**  \n",
    "\n",
    "---\n",
    "\n",
    "💡 **Goal:** To build an effective, real-time email spam detection system that enhances security and prevents cyber threats.  \n",
    "\n",
    "🔬 **Author:** _[Your Name]_  \n",
    "📅 **Date:** _[YYYY-MM-DD]_  \n"
   ]
  },
  {
   "cell_type": "markdown",
   "metadata": {},
   "source": [
    "## 📂 Efficient Large File Processing with Pandas  \n",
    "\n",
    "### **🔍 Overview**  \n",
    "When dealing with large datasets, loading the entire file at once can cause **memory issues**. This approach **reads the dataset in chunks**, allowing us to process large files efficiently.  \n",
    "\n",
    "### **🛠 Code Breakdown**  \n",
    "- **`chunk_size = 150000`** → Reads **150,000 rows at a time** to optimize memory usage.  \n",
    "- **`pd.read_csv(file_path, chunksize=chunk_size)`** → Iterates through the dataset **in chunks** instead of loading everything at once.  \n",
    "- **`break` (temporary)** → Stops after reading the **first chunk** for testing.  \n",
    "\n",
    "### **🚀 Why Use Chunking?**  \n",
    "✔ Prevents **memory overload** when handling large CSV files.  \n",
    "✔ Enables **real-time processing** without crashes.  \n",
    "✔ Allows **scalable data handling** for big datasets.  \n",
    "\n",
    "💡 **Next Step:** Remove `break` when ready to process all chunks! 🚀\n"
   ]
  },
  {
   "cell_type": "code",
   "execution_count": 1,
   "metadata": {},
   "outputs": [],
   "source": [
    "import pandas as pd"
   ]
  },
  {
   "cell_type": "code",
   "execution_count": 1,
   "metadata": {},
   "outputs": [
    {
     "name": "stdout",
     "output_type": "stream",
     "text": [
      "Email Dataset is ready to be processed\n"
     ]
    }
   ],
   "source": [
    "import pandas as pd\n",
    "\n",
    "# Define chunk size (e.g., 10,000 rows at a time)\n",
    "chunk_size = 150000\n",
    "file_path = \"../data/emails.csv\"\n",
    "\n",
    "# Read in chunks and process each part separately\n",
    "for chunk in pd.read_csv(file_path, chunksize=chunk_size):\n",
    "    # print(chunk.info())\n",
    "    email_df = chunk\n",
    "    print(\"Email Dataset is ready to be processed\")\n",
    "    break  # Remove this once you're ready to process all chunks\n"
   ]
  },
  {
   "cell_type": "markdown",
   "metadata": {},
   "source": [
    "**Shape of the email dataset to use**"
   ]
  },
  {
   "cell_type": "code",
   "execution_count": 30,
   "metadata": {},
   "outputs": [
    {
     "data": {
      "text/plain": [
       "(150000, 2)"
      ]
     },
     "execution_count": 30,
     "metadata": {},
     "output_type": "execute_result"
    }
   ],
   "source": [
    "email_df.shape"
   ]
  },
  {
   "cell_type": "markdown",
   "metadata": {},
   "source": [
    "## Information about the email dataset"
   ]
  },
  {
   "cell_type": "code",
   "execution_count": 29,
   "metadata": {},
   "outputs": [
    {
     "name": "stdout",
     "output_type": "stream",
     "text": [
      "<class 'pandas.core.frame.DataFrame'>\n",
      "RangeIndex: 150000 entries, 0 to 149999\n",
      "Data columns (total 2 columns):\n",
      " #   Column   Non-Null Count   Dtype \n",
      "---  ------   --------------   ----- \n",
      " 0   file     150000 non-null  object\n",
      " 1   message  150000 non-null  object\n",
      "dtypes: object(2)\n",
      "memory usage: 2.3+ MB\n"
     ]
    }
   ],
   "source": [
    "email_df.info()"
   ]
  },
  {
   "cell_type": "markdown",
   "metadata": {},
   "source": [
    "## 📩 Extracting Email Headers & Body  \n",
    "\n",
    "### 🔍 Overview  \n",
    "This function processes **raw email text** to extract key **headers** (such as sender, recipient, subject, and date) and retrieve the **email body** for analysis. It is designed to handle **multipart emails**, ensuring that only the readable text content is extracted while ignoring attachments.\n",
    "\n",
    "### ⚡ Key Features  \n",
    "✔ **Extracts Important Headers** – Captures key details like `From`, `To`, `Subject`, and `Date`.  \n",
    "✔ **Handles Multipart Emails** – Supports structured email formats that contain different content types.  \n",
    "✔ **Skips Attachments** – Ensures that non-text attachments (e.g., PDFs, images) are not mistakenly extracted.  \n",
    "✔ **Ensures Encoding Compatibility** – Converts email content to a readable format using appropriate character encoding.  \n",
    "\n",
    "### 🚀 Why This is Important?  \n",
    "- Essential for **email spam detection** and **phishing analysis**.  \n",
    "- Helps in **preprocessing raw emails** for **machine learning classification**.  \n",
    "- Allows structured analysis of email metadata and message content.  \n",
    "\n",
    "💡 **Next Step:** Use this function to process email datasets and extract structured insights for analysis! 🚀  \n"
   ]
  },
  {
   "cell_type": "code",
   "execution_count": 2,
   "metadata": {},
   "outputs": [],
   "source": [
    "from email import message_from_string\n",
    "\n",
    "def extract_headers(email_text):\n",
    "    '''\n",
    "    Extracts email headers from raw text\n",
    "\n",
    "    Parameters:\n",
    "        email_text (str): Raw email text\n",
    "\n",
    "    Returns:\n",
    "        dict: Extracted email headers\n",
    "    '''\n",
    "    msg = message_from_string(email_text)\n",
    "    \n",
    "    # Extracting headers\n",
    "    email_data = {\n",
    "        \"from\": msg[\"From\"],\n",
    "        \"to\": msg[\"To\"],\n",
    "        \"subject\": msg[\"Subject\"],\n",
    "        \"date\": msg[\"Date\"],\n",
    "        \"body\": None  # Default to None if body extraction fails\n",
    "    }\n",
    "    \n",
    "    # Extract email body (handling different content types)\n",
    "    if msg.is_multipart():\n",
    "        for part in msg.walk():\n",
    "            content_type = part.get_content_type()\n",
    "            content_disposition = str(part.get(\"Content-Disposition\"))\n",
    "            \n",
    "            # Select only text/plain (ignore attachments)\n",
    "            if content_type == \"text/plain\" and \"attachment\" not in content_disposition:\n",
    "                charset = part.get_content_charset() or \"utf-8\"  # Default to utf-8 if None\n",
    "                email_data[\"body\"] = part.get_payload(decode=True).decode(charset, errors=\"ignore\")\n",
    "                break  # Stop at first valid body\n",
    "    else:\n",
    "        charset = msg.get_content_charset() or \"utf-8\"  # Default encoding\n",
    "        email_data[\"body\"] = msg.get_payload(decode=True).decode(charset, errors=\"ignore\")\n",
    "    \n",
    "    return email_data"
   ]
  },
  {
   "cell_type": "markdown",
   "metadata": {},
   "source": [
    "## 🔢 Word Count Function  \n",
    "\n",
    "### 🔍 Overview  \n",
    "This function counts the total number of **words** in a given text. It uses **regular expressions (regex)** to correctly identify words, ensuring accurate results even when handling punctuation or special characters.\n",
    "\n",
    "### ⚡ Key Features  \n",
    "✔ **Accurate Word Extraction** – Identifies words using regex, avoiding incorrect splits due to punctuation.  \n",
    "✔ **Optimized for Text Analysis** – Helps in processing email content for **spam detection and NLP tasks**.  \n",
    "✔ **Lightweight & Efficient** – Works on large text bodies with minimal computational overhead.  \n",
    "\n",
    "### 🚀 Why This is Important?  \n",
    "- Used for **email spam filtering** (e.g., spam emails often have shorter or longer word counts).  \n",
    "- Helps in **text complexity analysis** for NLP tasks.  \n",
    "- Useful for **feature engineering** in machine learning models.  \n",
    "\n",
    "💡 **Next Step:** Apply this function to analyze **email datasets** and extract meaningful word count patterns! 🚀  \n"
   ]
  },
  {
   "cell_type": "code",
   "execution_count": 3,
   "metadata": {},
   "outputs": [],
   "source": [
    "import re\n",
    "def count_words(text):\n",
    "    '''Counts the number of words in a text'''\n",
    "    words = re.findall(r\"\\b\\w+\\b\", text)  # Extracts words correctly\n",
    "    return len(words)\n"
   ]
  },
  {
   "cell_type": "markdown",
   "metadata": {},
   "source": [
    "## 🔗 Counting Links & Domains in Text  \n",
    "\n",
    "### 🔍 Overview  \n",
    "This function detects and counts both **full URLs** and **plain domain mentions** in a given text. It ensures accurate identification of web links, which is crucial for **spam detection and email security analysis**.\n",
    "\n",
    "### ⚡ Key Features  \n",
    "✔ **Detects Full URLs** – Captures links starting with `http://` or `https://`.  \n",
    "✔ **Identifies Plain Domains** – Extracts domain mentions like `example.com` even without `http://`.  \n",
    "✔ **Removes Duplicates** – Uses a **set-based approach** to ensure each URL/domain is counted only once.  \n",
    "\n",
    "### 🚀 Why This is Important?  \n",
    "- **Spam & Phishing Detection** – Suspicious emails often contain **multiple links or fake domains**.  \n",
    "- **Feature Engineering for ML** – The number of links in an email can be a key feature in **spam classification**.  \n",
    "- **Cybersecurity Analysis** – Helps detect **malicious domains** in emails.  \n",
    "\n",
    "💡 **Next Step:** Use this function to analyze email datasets and detect **potentially harmful URLs or phishing links**! 🚀  \n"
   ]
  },
  {
   "cell_type": "code",
   "execution_count": 4,
   "metadata": {},
   "outputs": [],
   "source": [
    "def count_links_and_domains(text):\n",
    "    \"\"\"Counts both full URLs and plain domain mentions.\"\"\"\n",
    "    url_pattern = r\"https?://[^\\s<>\\\"']+\"  # Full URLs\n",
    "    domain_pattern = r\"\\b(?:[a-zA-Z0-9-]+\\.)+[a-zA-Z]{2,6}\\b\"  # Plain domains\n",
    "\n",
    "    urls = re.findall(url_pattern, text)\n",
    "    domains = re.findall(domain_pattern, text)\n",
    "\n",
    "    return len(set(urls + domains))  # Using `set()` to remove duplicates\n"
   ]
  },
  {
   "cell_type": "markdown",
   "metadata": {},
   "source": [
    "## 🖥️ Detecting HTML Content in Emails  \n",
    "\n",
    "### 🔍 Overview  \n",
    "This function checks whether an **email contains an HTML part**. Many **phishing and spam emails** use HTML formatting to hide malicious links, deceptive content, or tracking elements.\n",
    "\n",
    "### ⚡ Key Features  \n",
    "✔ **Scans Email Structure** – Iterates through all parts of the email to detect HTML content.  \n",
    "✔ **Phishing Detection** – HTML emails often include **hidden links** or **obfuscated text** used in phishing attacks.  \n",
    "✔ **Enhances Email Classification** – HTML presence can be a strong feature in **spam detection models**.  \n",
    "\n",
    "### 🚀 Why This is Important?  \n",
    "- **Spam & Phishing Emails** often use **HTML formatting** for deceptive styling.  \n",
    "- HTML emails can include **hidden tracking pixels** or **JavaScript exploits**.  \n",
    "- Helps **improve machine learning models** by identifying emails with HTML content.  \n",
    "\n",
    "💡 **Next Step:** Use this function to analyze email datasets and detect **potentially harmful HTML-based emails**! 🚀  \n"
   ]
  },
  {
   "cell_type": "code",
   "execution_count": 5,
   "metadata": {},
   "outputs": [],
   "source": [
    "def has_html(email_text):\n",
    "    \"\"\"Check if an email contains an HTML part.\"\"\"\n",
    "    msg = message_from_string(email_text)\n",
    "    \n",
    "    return any(part.get_content_type() == \"text/html\" for part in msg.walk())\n",
    "\n"
   ]
  },
  {
   "cell_type": "markdown",
   "metadata": {},
   "source": [
    "**A typical example of an email content**"
   ]
  },
  {
   "cell_type": "code",
   "execution_count": 6,
   "metadata": {},
   "outputs": [],
   "source": [
    "email_content = '''Message-ID: <12345678.987654321@example.com>\n",
    "Date: Mon, 19 Feb 2024 10:30:00 -0700\n",
    "From: sender@example.com\n",
    "To: recipient@example.com\n",
    "Subject: Project Proposal\n",
    "Mime-Version: 1.0\n",
    "Content-Type: multipart/mixed; boundary=\"boundary123\"\n",
    "\n",
    "--boundary123\n",
    "Content-Type: text/plain; charset=\"UTF-8\"\n",
    "Content-Transfer-Encoding: 7bit\n",
    "\n",
    "Hello,\n",
    "\n",
    "Please find attached the project proposal document. Let me know if you have any questions.\n",
    "\n",
    "Best,\n",
    "Sender\n",
    "\n",
    "--boundary123\n",
    "Content-Type: application/pdf\n",
    "Content-Disposition: attachment; filename=\"proposal.pdf\"\n",
    "Content-Transfer-Encoding: base64\n",
    "\n",
    "JVBERi0xLjQKJeLjz9MKMyAwIG9iago8PAovVHlwZSAvQ2F0YWxvZwovUGFnZXMgMiAwIFIKPj4KZW5kb2Jq\n",
    "... (truncated base64 content) ...\n",
    "==\n",
    "\n",
    "--boundary123--\n",
    "'''"
   ]
  },
  {
   "cell_type": "markdown",
   "metadata": {},
   "source": [
    "## 📎 Counting Attachments in Emails  \n",
    "\n",
    "### 🔍 Overview  \n",
    "This function counts the **number of attachments** in an email by scanning its structure and identifying parts that contain filenames. Attachments are often used in **phishing attacks and malware distribution**, making this a crucial feature for **spam detection**.\n",
    "\n",
    "### ⚡ Key Features  \n",
    "✔ **Detects All Attachments** – Identifies file attachments regardless of format (PDF, ZIP, EXE, etc.).  \n",
    "✔ **Enhances Email Threat Analysis** – Helps flag emails with **suspicious attachments**.  \n",
    "✔ **Supports Email Parsing** – Works with **multipart emails**, ensuring accurate detection.  \n",
    "\n",
    "### 🚀 Why This is Important?  \n",
    "- **Phishing & Malware Detection** – Many malicious emails contain **infected attachments**.  \n",
    "- **Spam Classification** – Emails with attachments may have a **higher likelihood of being spam**.  \n",
    "- **Security Analysis** – Helps detect **potential threats** before opening an email.  \n",
    "\n",
    "💡 **Next Step:** Use this function to extract **attachment statistics** from emails and integrate it into your **machine learning model** for improved spam detection! 🚀  \n"
   ]
  },
  {
   "cell_type": "code",
   "execution_count": 6,
   "metadata": {},
   "outputs": [],
   "source": [
    "def count_attachments(email_text):\n",
    "    \"\"\"Count the number of attachments in an email.\"\"\"\n",
    "    msg = message_from_string(email_text)\n",
    "    \n",
    "    return sum(1 for part in msg.walk() if part.get_filename())  # Count parts that have a filename\n"
   ]
  },
  {
   "cell_type": "markdown",
   "metadata": {},
   "source": [
    "## 📊 Spam Score Calculation  \n",
    "\n",
    "### 🔍 Overview  \n",
    "This function calculates a **spam score** for a given text by checking for **common spam-related keywords**. The presence of these words increases the likelihood that an email is spam.\n",
    "\n",
    "### ⚡ Key Features  \n",
    "✔ **Comprehensive Spam Keyword List** – Detects **financial scams, phishing attempts, urgent promotions, and more**.  \n",
    "✔ **Regex-Based Matching** – Ensures **accurate word detection**, preventing partial word matches.  \n",
    "✔ **Quantitative Spam Score** – Higher scores indicate a **greater likelihood of spam**.  \n",
    "\n",
    "### 🚀 Why This is Important?  \n",
    "- **Spam & Phishing Detection** – Many fraudulent emails contain **trigger words** to manipulate recipients.  \n",
    "- **Feature Engineering for ML Models** – Spam score can serve as an **important feature in a spam classifier**.  \n",
    "- **Automated Email Filtering** – Helps categorize emails based on **risk level**.  \n",
    "\n",
    "💡 **Next Step:** Use this function to **analyze email datasets**, refine spam detection models, and test different thresholds for **classification accuracy**! 🚀  \n"
   ]
  },
  {
   "cell_type": "code",
   "execution_count": 7,
   "metadata": {},
   "outputs": [],
   "source": [
    "def spam_score(text):\n",
    "    \"\"\"Calculate the spam score based on predefined spam words.\"\"\"\n",
    "    SPAM_WORDS = [\n",
    "    # 🚨 Financial & Money Scams\n",
    "    \"free\", \"win\", \"winner\", \"winnings\", \"money\", \"cash\", \"earn\", \"easy money\",\n",
    "    \"make money\", \"fast cash\", \"quick cash\", \"extra cash\", \"double your income\",\n",
    "    \"get rich\", \"financial freedom\", \"increase sales\", \"investment\", \n",
    "    \"passive income\", \"work from home\", \"no experience needed\", \"limited time\",\n",
    "    \"instant cash\", \"credit\", \"debt relief\", \"bank transfer\", \"wire transfer\", \n",
    "    \"fast loan\", \"no credit check\", \"lowest rate\", \"instant approval\",\n",
    "    \n",
    "    # 🛍️ Promotional & Sales Tactics\n",
    "    \"offer\", \"discount\", \"prize\", \"reward\", \"bonus\", \"gift\", \"apply now\",\n",
    "    \"special deal\", \"hot deal\", \"lowest price\", \"save big\", \"best deal\", \n",
    "    \"bargain\", \"buy now\", \"order now\", \"cheap\", \"affordable\", \"best price\", \n",
    "    \"exclusive\", \"promo\", \"promotion\", \"limited offer\", \"free trial\", \n",
    "    \"new customer\", \"subscription\", \"membership\", \"act fast\", \"expires soon\",\n",
    "\n",
    "    # 🚀 Urgency & Persuasion\n",
    "    \"urgent\", \"hurry\", \"act now\", \"last chance\", \"final notice\", \"important\", \n",
    "    \"as soon as possible\", \"time-sensitive\", \"one-time\", \"today only\", \n",
    "    \"do it now\", \"limited stock\", \"this won’t last\", \"once in a lifetime\",\n",
    "    \n",
    "    # 🎯 Clickbait & Phishing Attempts\n",
    "    \"click\", \"click here\", \"click below\", \"open now\", \"access now\",\n",
    "    \"view online\", \"sign up\", \"register now\", \"confirm your details\",\n",
    "    \"log in\", \"update your account\", \"verify your identity\", \n",
    "    \"secure your account\", \"your account is at risk\", \"security alert\", \n",
    "    \"reset password\", \"your payment failed\", \"billing issue\", \"invoice attached\",\n",
    "    \n",
    "    # ⚠️ Scam & Fraud Terms\n",
    "    \"guarantee\", \"risk-free\", \"no risk\", \"100% free\", \"money-back\", \n",
    "    \"satisfaction guaranteed\", \"no obligation\", \"hidden charges\", \n",
    "    \"secret formula\", \"miracle\", \"exclusive deal\", \"instant cure\", \n",
    "    \"congratulations\", \"you have been selected\", \"you are a winner\",\n",
    "    \n",
    "    # 📩 Email & Unsubscription Traps\n",
    "    \"unsubscribe\", \"remove me\", \"opt-out\", \"this is not spam\",\n",
    "    \"why are you receiving this\", \"you received this email because\",\n",
    "    \"not interested?\", \"spam-free guarantee\", \"no more emails\",\n",
    "    \n",
    "    # 🏦 Banking & Crypto Fraud\n",
    "    \"bitcoin\", \"crypto\", \"blockchain\", \"ethereum\", \"trading\", \"forex\", \n",
    "    \"broker\", \"binary options\", \"wallet\", \"crypto exchange\", \"payout\", \n",
    "    \"account verification\", \"account update\", \"account locked\", \"secure login\",\n",
    "    \n",
    "    # 📢 Medical & Health Scams\n",
    "    \"miracle cure\", \"cure\", \"no prescription\", \"pharmacy\", \"drugs\", \n",
    "    \"weight loss\", \"diet pill\", \"anti-aging\", \"instant results\", \"clinically proven\",\n",
    "    \n",
    "    # 💳 Lottery & Sweepstakes\n",
    "    \"lottery\", \"jackpot\", \"lucky draw\", \"winning ticket\", \"unclaimed prize\", \n",
    "    \"claim your reward\", \"sweepstakes\", \"mega millions\", \"powerball\", \n",
    "    \"your lucky number\", \"your check is waiting\",\n",
    "\n",
    "    # 👔 Business & Job Scams\n",
    "    \"earn at home\", \"home-based business\", \"be your own boss\", \"online income\",\n",
    "    \"startup funding\", \"government grant\", \"high-paying job\", \"no skills required\",\n",
    "    \n",
    "    # 🏠 Real Estate & Property Scams\n",
    "    \"mortgage rates\", \"real estate\", \"home loan\", \"house for sale\", \n",
    "    \"foreclosure\", \"cheap property\", \"investment property\", \"flipping houses\",\n",
    "    \n",
    "    # 🔐 Personal Information Theft\n",
    "    \"identity verification\", \"social security number\", \"ssn\", \"bank account\", \n",
    "    \"routing number\", \"password reset\", \"security question\", \"personal details\",\n",
    "    \n",
    "    # 🖥️ Tech Support & Malware Scams\n",
    "    \"your computer is infected\", \"tech support\", \"fix your pc\", \"remote access\",\n",
    "    \"download now\", \"install this update\", \"your system is at risk\", \n",
    "    \"trojan detected\", \"virus warning\", \"malware detected\", \"spyware removal\",\n",
    "    \n",
    "    # 🎁 Fake Charity & Donations\n",
    "    \"help us\", \"donate now\", \"urgent donation needed\", \"support our cause\", \n",
    "    \"charity request\", \"nonprofit\", \"disaster relief\", \"emergency appeal\",\n",
    "    \n",
    "    # 🏆 Fake Celebrities & Endorsements\n",
    "    \"as seen on tv\", \"elon musk recommends\", \"warren buffet’s secret\", \n",
    "    \"celebrity approved\", \"doctor recommended\", \"scientifically proven\"\n",
    "]\n",
    "\n",
    "    text_lower = text.lower()\n",
    "    \n",
    "    return sum(len(re.findall(rf\"\\b{word}\\b\", text_lower)) for word in SPAM_WORDS)\n"
   ]
  },
  {
   "cell_type": "markdown",
   "metadata": {},
   "source": [
    "## ⚠️ Detecting Suspicious Attachments in Emails  \n",
    "\n",
    "### 🔍 Overview  \n",
    "This function scans an email for **potentially dangerous attachments** by checking file extensions commonly associated with **malware, phishing attacks, and trojans**.\n",
    "\n",
    "### ⚡ Key Features  \n",
    "✔ **Detects High-Risk File Types** – Flags attachments like `.exe`, `.zip`, `.rar`, `.js`, `.bat`, etc.  \n",
    "✔ **Prevents Malware Spread** – Helps identify emails that contain **potentially harmful executables**.  \n",
    "✔ **Enhances Spam & Security Filtering** – Can be integrated into **machine learning models** or **email security tools**.  \n",
    "\n",
    "### 🚀 Why This is Important?  \n",
    "- **Many phishing attacks** use **malicious attachments** to infect systems.  \n",
    "- Helps email security systems **block high-risk attachments** before they are opened.  \n",
    "- Improves **automated spam and phishing detection models**.  \n",
    "\n",
    "💡 **Next Step:** Use this function to **analyze emails for suspicious attachments** and improve **email security measures**! 🚀  \n"
   ]
  },
  {
   "cell_type": "code",
   "execution_count": 8,
   "metadata": {},
   "outputs": [],
   "source": [
    "def count_suspicious_attachments(email_text):\n",
    "    \"\"\"Count the number of suspicious attachments in an email.\"\"\"\n",
    "    msg = message_from_string(email_text)\n",
    "    dangerous_exts = {\".exe\", \".zip\", \".rar\", \".scr\", \".iso\", \".js\", \".bat\"}\n",
    "    \n",
    "    return sum(\n",
    "        1 for part in msg.walk()\n",
    "        if part.get_filename() and any(part.get_filename().lower().endswith(ext) for ext in dangerous_exts)\n",
    "    )\n"
   ]
  },
  {
   "cell_type": "markdown",
   "metadata": {},
   "source": [
    "## 🛑 Detecting Fake & Suspicious Email Domains  \n",
    "\n",
    "### 🔍 Overview  \n",
    "This function checks if an **email sender's domain** contains suspicious keywords commonly used in **scam and phishing emails**. Fraudulent domains often include words like **\"free,\" \"money,\" \"offer,\" or \"lottery\"** to trick users.\n",
    "\n",
    "### ⚡ Key Features  \n",
    "✔ **Extracts Email Sender’s Domain** – Identifies the domain name from the `From` field.  \n",
    "✔ **Matches Against Known Scam Keywords** – Flags domains containing spam-related words.  \n",
    "✔ **Enhances Phishing Detection** – Helps in identifying **fraudulent senders** in email analysis.  \n",
    "\n",
    "### 🚀 Why This is Important?  \n",
    "- **Phishing emails** often use **fake domains** resembling trusted services.  \n",
    "- Helps **machine learning models** detect emails from **untrustworthy sources**.  \n",
    "- Enhances **email filtering systems** to **prevent scam attempts**.  \n",
    "\n",
    "💡 **Next Step:** Use this function to **analyze sender domains** in your dataset and strengthen **email security measures**! 🚀  \n"
   ]
  },
  {
   "cell_type": "code",
   "execution_count": 9,
   "metadata": {},
   "outputs": [],
   "source": [
    "def is_fake_domain(email_text):\n",
    "    \"\"\"Check if the email sender's domain is suspicious.\"\"\"\n",
    "    msg = message_from_string(email_text)\n",
    "    email_from = msg[\"From\"]\n",
    "    \n",
    "    fake_keywords = [\"free\", \"money\", \"offer\", \"lottery\", \"deal\", \"promo\", \"cheap\"]\n",
    "    \n",
    "    if email_from:\n",
    "        match = re.search(r'@([\\w.-]+)', email_from)\n",
    "        if match:\n",
    "            domain = match.group(1).lower()\n",
    "            return any(keyword in domain for keyword in fake_keywords)\n",
    "    \n",
    "    return False"
   ]
  },
  {
   "cell_type": "markdown",
   "metadata": {},
   "source": [
    "## 🚨 Detecting Suspicious Links in Emails  \n",
    "\n",
    "### 🔍 Overview  \n",
    "This function scans an email for **shortened or potentially dangerous URLs**, which are often used in **phishing attacks and scam emails** to obscure the true destination of a link.\n",
    "\n",
    "### ⚡ Key Features  \n",
    "✔ **Identifies URL Shorteners** – Flags links from services like `bit.ly`, `tinyurl.com`, and `goo.gl`, which are commonly used to hide malicious sites.  \n",
    "✔ **Extracts All Links in Email Text** – Uses regex to detect **all URLs** present in the email body.  \n",
    "✔ **Enhances Phishing Detection** – Helps **prevent users from clicking on dangerous links**.  \n",
    "\n",
    "### 🚀 Why This is Important?  \n",
    "- **Phishing attacks** often use **shortened URLs** to mask malicious websites.  \n",
    "- Helps **machine learning models** detect emails containing **deceptive links**.  \n",
    "- Can be integrated into **email security filters** to **block unsafe messages**.  \n",
    "\n",
    "💡 **Next Step:** Apply this function to **analyze emails for suspicious links** and improve your **spam detection accuracy**! 🚀  \n"
   ]
  },
  {
   "cell_type": "code",
   "execution_count": 10,
   "metadata": {},
   "outputs": [],
   "source": [
    "def count_suspicious_links(text):\n",
    "    \"\"\"Count the number of suspicious links in an email.\"\"\"\n",
    "    suspicious_domains = {\"bit.ly\", \"tinyurl.com\", \"t.co\", \"goo.gl\", \"ow.ly\", \"is.gd\", \"buff.ly\"}\n",
    "    \n",
    "    links = re.findall(r\"http[s]?://(?:[a-zA-Z]|[0-9]|[$-_@.&+]|[!*\\\\(\\\\),]|(?:%[0-9a-fA-F][0-9a-fA-F]))+\", text)\n",
    "    \n",
    "    return sum(1 for link in links if any(domain in link for domain in suspicious_domains))\n"
   ]
  },
  {
   "cell_type": "markdown",
   "metadata": {},
   "source": [
    "## 📧 Detecting Missing or Multiple Recipients in Emails  \n",
    "\n",
    "### 🔍 Overview  \n",
    "These functions analyze the **recipient field (`To`) in an email** to detect anomalies, such as missing recipients or multiple addresses. **Spam and phishing emails** often omit the `To` field or send bulk messages to many recipients.\n",
    "\n",
    "### ⚡ Key Features  \n",
    "✔ **Detects Missing `To` Field** – Flags emails that **do not specify a recipient**, a common spam trait.  \n",
    "✔ **Counts Multiple Recipients** – Identifies **bulk emails** sent to multiple users, which could indicate **mass phishing attempts**.  \n",
    "✔ **Enhances Email Filtering** – Helps **differentiate between personal and mass emails** for better classification.  \n",
    "\n",
    "### 🚀 Why This is Important?  \n",
    "- **Spam & Phishing Emails** often **omit the `To` field** to hide recipients.  \n",
    "- **Bulk emails with too many recipients** could indicate **unsolicited messages**.  \n",
    "- **Useful for machine learning models** – Helps in feature engineering for **spam classification**.  \n",
    "\n",
    "💡 **Next Step:** Use these functions to **analyze recipient patterns in emails** and strengthen your **spam detection system**! 🚀  \n"
   ]
  },
  {
   "cell_type": "code",
   "execution_count": 11,
   "metadata": {},
   "outputs": [],
   "source": [
    "def is_missing_to(email_text):\n",
    "    \"\"\"Check if the email is missing the 'To' field.\"\"\"\n",
    "    msg = message_from_string(email_text)\n",
    "    return 1 if not msg[\"To\"] else 0\n",
    "\n",
    "def count_recipients(email_text):\n",
    "    \"\"\"Count the number of recipients in the email.\"\"\"\n",
    "    msg = message_from_string(email_text)\n",
    "    return len(msg[\"To\"].split(\",\")) if msg[\"To\"] else 0\n"
   ]
  },
  {
   "cell_type": "markdown",
   "metadata": {},
   "source": [
    "## 📝 Counting Words in Email Subject  \n",
    "\n",
    "### 🔍 Overview  \n",
    "This function counts the **number of words in an email subject line**, which can be a useful indicator for **spam detection**. **Short or overly long subject lines** are often associated with **phishing attempts or marketing spam**.\n",
    "\n",
    "### ⚡ Key Features  \n",
    "✔ **Extracts Subject Length** – Measures the number of words in the **email subject**.  \n",
    "✔ **Helps Detect Spam Patterns** – Many **spam emails** have either **very short or excessively long** subject lines.  \n",
    "✔ **Enhances Machine Learning Models** – Provides a valuable **feature for spam classification**.  \n",
    "\n",
    "### 🚀 Why This is Important?  \n",
    "- **Phishing emails** often use **short, vague subject lines** to trick users (e.g., `\"URGENT!\"` or `\"Account Alert\"`).  \n",
    "- **Marketing spam** may have **overly long subject lines** with excessive keywords.  \n",
    "- **Useful for spam filtering systems** – Helps detect **suspicious email structures**.  \n",
    "\n",
    "💡 **Next Step:** Use this function to analyze **subject line patterns** in emails and improve **spam detection accuracy**! 🚀  \n"
   ]
  },
  {
   "cell_type": "code",
   "execution_count": 12,
   "metadata": {},
   "outputs": [],
   "source": [
    "def count_subject_words(email_text):\n",
    "    \"\"\"Count the number of words in the email subject.\"\"\"\n",
    "    msg = message_from_string(email_text)\n",
    "    return len(msg[\"Subject\"].split()) if msg[\"Subject\"] else 0\n"
   ]
  },
  {
   "cell_type": "markdown",
   "metadata": {},
   "source": [
    "\n",
    "## Typical example of email content\n",
    "\n",
    "\n",
    "\"Message-ID: <15464986.1075855378456.JavaMail.evans@thyme>\\nDate: Fri, 4 May 2001 13:51:00 -0700 (PDT)\\nFrom: phillip.allen@enron.com\\nTo: john.lavorato@enron.com\\nSubject: Re:\\nMime-Version: 1.0\\nContent-Type: text/plain; charset=us-ascii\\nContent-Transfer-Encoding: 7bit\\nX-From: Phillip K Allen\\nX-To: John J Lavorato <John J Lavorato/ENRON@enronXgate@ENRON>\\nX-cc: \\nX-bcc: \\nX-Folder: \\\\Phillip_Allen_Jan2002_1\\\\Allen, Phillip K.\\\\'Sent Mail\\nX-Origin: Allen-P\\nX-FileName: pallen (Non-Privileged).pst\\n\\nTraveling to have a business meeting takes the fun out of the trip.  Especially if you have to prepare a presentation.  I would suggest holding the business plan meetings here then take a trip without any formal business meetings.  I would even try and get some honest opinions on whether a trip is even desired or necessary.\\n\\nAs far as the business meetings, I think it would be more productive to try and stimulate discussions across the different groups about what is working and what is not.  Too often the presenter speaks and the others are quiet just waiting for their turn.   The meetings might be better if held in a round table discussion format.  \\n\\nMy suggestion for where to go is Austin.  Play golf and rent a ski boat and jet ski's.  Flying somewhere takes too much time.\\n\""
   ]
  },
  {
   "cell_type": "markdown",
   "metadata": {},
   "source": [
    "## 📊 Email Feature Extraction for Spam Detection  \n",
    "\n",
    "### 🔍 Overview  \n",
    "This function extracts **key features** from raw email data to prepare it for **spam classification**. It processes each email, extracting **metadata, content details, and security-related attributes**.\n",
    "\n",
    "### ⚡ Key Features Extracted  \n",
    "✔ **Basic Email Metadata** – Extracts `From`, `To`, `Subject`, and `Date`.  \n",
    "✔ **Email Content Analysis** – Counts words, links, and HTML presence.  \n",
    "✔ **Attachment & Security Checks** – Identifies **suspicious attachments** and **malicious links**.  \n",
    "✔ **Spam Indicator Scores** – Computes a **spam score** based on known spam keywords.  \n",
    "✔ **Phishing Detection** – Flags **fake domains and missing recipients**, which are common in phishing attacks.  \n",
    "\n",
    "### 🚀 Why This is Important?  \n",
    "- **Essential for Machine Learning Models** – Provides structured features for training spam classifiers.  \n",
    "- **Improves Spam & Phishing Detection** – Helps in identifying **email threats** with high accuracy.  \n",
    "- **Automates Email Processing** – Converts raw emails into a **clean dataset** for further analysis.  \n",
    "\n",
    "💡 **Next Step:** Use this processed dataset for **training and evaluating machine learning models** to improve **spam classification accuracy**! 🚀  \n"
   ]
  },
  {
   "cell_type": "code",
   "execution_count": 14,
   "metadata": {},
   "outputs": [
    {
     "name": "stdout",
     "output_type": "stream",
     "text": [
      "Processing emails...\n"
     ]
    },
    {
     "ename": "NameError",
     "evalue": "name 'email_df' is not defined",
     "output_type": "error",
     "traceback": [
      "\u001b[0;31m---------------------------------------------------------------------------\u001b[0m",
      "\u001b[0;31mNameError\u001b[0m                                 Traceback (most recent call last)",
      "Cell \u001b[0;32mIn[14], line 32\u001b[0m\n\u001b[1;32m     29\u001b[0m \u001b[38;5;66;03m# temp_email_df = email_df.copy()\u001b[39;00m\n\u001b[1;32m     30\u001b[0m \u001b[38;5;66;03m# Apply feature extraction\u001b[39;00m\n\u001b[1;32m     31\u001b[0m \u001b[38;5;28mprint\u001b[39m(\u001b[38;5;124m\"\u001b[39m\u001b[38;5;124mProcessing emails...\u001b[39m\u001b[38;5;124m\"\u001b[39m)\n\u001b[0;32m---> 32\u001b[0m processed_data \u001b[38;5;241m=\u001b[39m \u001b[43memail_df\u001b[49m\u001b[38;5;241m.\u001b[39mapply(process_email, axis\u001b[38;5;241m=\u001b[39m\u001b[38;5;241m1\u001b[39m)\n\u001b[1;32m     34\u001b[0m \u001b[38;5;66;03m# Convert to DataFrame\u001b[39;00m\n\u001b[1;32m     35\u001b[0m \u001b[38;5;28mprint\u001b[39m(\u001b[38;5;124m\"\u001b[39m\u001b[38;5;124mConverting to DataFrame...\u001b[39m\u001b[38;5;124m\"\u001b[39m)\n",
      "\u001b[0;31mNameError\u001b[0m: name 'email_df' is not defined"
     ]
    }
   ],
   "source": [
    "import pandas as pd\n",
    "\n",
    "def process_email(row):\n",
    "    email_text = row[\"message\"]\n",
    "    headers = extract_headers(email_text)\n",
    "    \n",
    "    return {\n",
    "        \"email_id\": row[\"file\"],\n",
    "        \"from\": headers[\"from\"],\n",
    "        \"to\": headers[\"to\"],\n",
    "        \"subject\": headers[\"subject\"],\n",
    "        \"date\": headers[\"date\"],\n",
    "        \"body\": headers[\"body\"],\n",
    "        \"num_words\": count_words(email_text),\n",
    "        \"num_links\": count_links_and_domains(email_text),\n",
    "        \"num_attachments\": count_attachments(email_text),\n",
    "        \"num_suspicious_attachments\": count_suspicious_attachments(email_text),\n",
    "        \"has_html\": has_html(email_text),\n",
    "        \"spam_score\": spam_score(email_text),\n",
    "        \"num_suspicious_links\": count_suspicious_links(email_text),\n",
    "        \"is_fake_domain\": is_fake_domain(email_text),\n",
    "        \"is_missing_to\": is_missing_to(email_text),\n",
    "        \"num_recipients\": count_recipients(email_text),\n",
    "        \"num_subject_words\": count_subject_words(email_text),\n",
    "        \"label\": None  # For manual or ML-based spam classification\n",
    "    }\n",
    "\n",
    "\n",
    "# temp_email_df = email_df.copy()\n",
    "# Apply feature extraction\n",
    "print(\"Processing emails...\")\n",
    "processed_data = email_df.apply(process_email, axis=1)\n",
    "\n",
    "# Convert to DataFrame\n",
    "print(\"Converting to DataFrame...\")\n",
    "df_processed = pd.DataFrame(processed_data.tolist())\n",
    "\n",
    "# Save processed dataset\n",
    "print(\"Saving processed dataset...\")\n",
    "df_processed.to_csv(\"processed_emails.csv\", index=False)\n",
    "df_processed.head()\n"
   ]
  },
  {
   "cell_type": "markdown",
   "metadata": {},
   "source": [
    "## 🏷️ Rule-Based Spam Labeling  \n",
    "\n",
    "### 🔍 Overview  \n",
    "This function **automatically labels emails as spam (1) or not spam (0)** based on predefined rules. It evaluates various **spam indicators** such as suspicious links, attachments, fake domains, and spam keywords.\n",
    "\n",
    "### ⚡ Key Spam Criteria  \n",
    "1️⃣ **Spam Score Threshold** – Emails with **more than 3 spam words** are flagged.  \n",
    "2️⃣ **Excessive Links** – More than **5 links** could indicate phishing.  \n",
    "3️⃣ **Suspicious Links** – Uses **shortened URLs or fake domains**.  \n",
    "4️⃣ **Too Many Attachments** – More than **4 attachments** suggests a potential scam.  \n",
    "5️⃣ **Dangerous File Types** – `.exe`, `.zip`, and similar files are often malware.  \n",
    "6️⃣ **HTML-Only Emails** – Emails **without plain text versions** could be phishing.  \n",
    "7️⃣ **Fake Sender Domains** – Identifies **spoofed sender email addresses**.  \n",
    "8️⃣ **Missing Recipient Info** – Spam emails **often lack a `To` field**.  \n",
    "9️⃣ **Bulk Emailing** – More than **5 recipients** suggests mass marketing or spam.  \n",
    "🔟 **Short Subject Lines** – Titles like `\"URGENT!\"` or `\"FREE!\"` can be spam signals.  \n",
    "\n",
    "### 🚀 Why This is Important?  \n",
    "- **Automates Spam Detection** – Provides a **baseline filtering method** before ML training.  \n",
    "- **Enhances Feature Engineering** – Helps refine data for **machine learning models**.  \n",
    "- **Improves Email Security** – Can be integrated into **email filtering systems**.  \n",
    "\n",
    "💡 **Next Step:** Test these rules on **real email datasets**, adjust thresholds, and compare them with **ML-based spam classification**! 🚀  \n"
   ]
  },
  {
   "cell_type": "code",
   "execution_count": 13,
   "metadata": {},
   "outputs": [],
   "source": [
    "def label_spam_rule_based(row):\n",
    "    # 1️⃣ Too many spam words\n",
    "    if row[\"spam_score\"] > 4:\n",
    "        return 1  \n",
    "\n",
    "    # 2️⃣ Too many links (potential phishing or scams)\n",
    "    if row[\"num_links\"] > 5:\n",
    "        return 1  \n",
    "\n",
    "    # 3️⃣ Suspicious links (shortened URLs, fake domains)\n",
    "    if row[\"num_suspicious_links\"] > 0:\n",
    "        return 1  \n",
    "\n",
    "    # 4️⃣ High number of attachments\n",
    "    if row[\"num_attachments\"] > 6:  \n",
    "        return 1  \n",
    "\n",
    "    # 5️⃣ Suspicious file types (.exe, .zip, etc.)\n",
    "    if row[\"num_suspicious_attachments\"] > 0:  \n",
    "        return 1  \n",
    "\n",
    "    # 6️⃣ HTML emails without a text version (can be phishing)\n",
    "    if row[\"has_html\"] and not row[\"body\"].strip():  \n",
    "        return 1  \n",
    "\n",
    "    # 7️⃣ Fake domain detected in sender's email\n",
    "    if row[\"is_fake_domain\"]:  \n",
    "        return 1  \n",
    "\n",
    "    # 8️⃣ Missing \"To\" field (could indicate bulk/mass spam)\n",
    "    if row[\"is_missing_to\"]:  \n",
    "        return 1  \n",
    "\n",
    "    # 9️⃣ More than 5 recipients (bulk email marketing)\n",
    "    if row[\"num_recipients\"] > 5:  \n",
    "        return 1  \n",
    "\n",
    "    # 🔟 Short subject lines (like \"URGENT\", \"FREE\", etc.)\n",
    "    if row[\"num_subject_words\"] < 3:  \n",
    "        return 1  \n",
    "\n",
    "    return 0  # Not spam\n",
    "\n",
    "\n"
   ]
  },
  {
   "cell_type": "markdown",
   "metadata": {},
   "source": [
    "## 🏷️ Applying Rule-Based Spam Labeling to Emails  \n",
    "\n",
    "### 🔍 Overview  \n",
    "This step applies **predefined spam detection rules** to a processed email dataset, labeling each email as **spam (1) or not spam (0)** based on various spam indicators.\n",
    "\n",
    "### ⚡ Key Steps  \n",
    "✔ **Loads the Processed Email Dataset** – Reads `processed_emails.csv` into a Pandas DataFrame.  \n",
    "✔ **Applies Rule-Based Labeling** – Uses `label_spam_rule_based()` to classify each email.  \n",
    "✔ **Creates a `label` Column** – Stores **spam classification results** for further analysis.  \n",
    "\n",
    "### 🚀 Why This is Important?  \n",
    "- **Automates Initial Spam Detection** – Labels spam without requiring manual intervention.  \n",
    "- **Prepares Data for Machine Learning** – Generates labeled data for **training and evaluation**.  \n",
    "- **Improves Email Filtering Accuracy** – Enhances spam detection using **predefined rules**.  \n",
    "\n",
    "💡 **Next Step:** Evaluate the labeled dataset, refine rules, and compare with **ML-based spam classification models**! 🚀  \n"
   ]
  },
  {
   "cell_type": "code",
   "execution_count": 14,
   "metadata": {},
   "outputs": [],
   "source": [
    "import pandas as pd\n",
    "\n",
    "df = pd.read_csv(\"processed_emails.csv\")\n",
    "# Apply rule-based labeling\n",
    "df[\"label\"] = df.apply(label_spam_rule_based, axis=1)\n",
    "\n"
   ]
  },
  {
   "cell_type": "markdown",
   "metadata": {},
   "source": [
    "label\n",
    "1    107002\n",
    "0     42998\n",
    "Name: count, dtype: int64"
   ]
  },
  {
   "cell_type": "code",
   "execution_count": 15,
   "metadata": {},
   "outputs": [
    {
     "data": {
      "text/plain": [
       "label\n",
       "1    105863\n",
       "0     44137\n",
       "Name: count, dtype: int64"
      ]
     },
     "execution_count": 15,
     "metadata": {},
     "output_type": "execute_result"
    }
   ],
   "source": [
    "df[\"label\"].value_counts()\n",
    "# df.info()"
   ]
  },
  {
   "cell_type": "code",
   "execution_count": 21,
   "metadata": {},
   "outputs": [],
   "source": [
    "temp_df = df.copy()\n",
    "# drop the label column and save the dataframe to a csv called processed_emails.csv\n",
    "temp_df.drop(columns=[\"label\"], inplace=True)\n",
    "temp_df.to_csv(\"processed_emails.csv\", index=False)"
   ]
  },
  {
   "cell_type": "markdown",
   "metadata": {},
   "source": [
    "## Display the first three rows after adding the label column"
   ]
  },
  {
   "cell_type": "code",
   "execution_count": 4,
   "metadata": {},
   "outputs": [
    {
     "data": {
      "text/html": [
       "<div>\n",
       "<style scoped>\n",
       "    .dataframe tbody tr th:only-of-type {\n",
       "        vertical-align: middle;\n",
       "    }\n",
       "\n",
       "    .dataframe tbody tr th {\n",
       "        vertical-align: top;\n",
       "    }\n",
       "\n",
       "    .dataframe thead th {\n",
       "        text-align: right;\n",
       "    }\n",
       "</style>\n",
       "<table border=\"1\" class=\"dataframe\">\n",
       "  <thead>\n",
       "    <tr style=\"text-align: right;\">\n",
       "      <th></th>\n",
       "      <th>email_id</th>\n",
       "      <th>from</th>\n",
       "      <th>to</th>\n",
       "      <th>subject</th>\n",
       "      <th>date</th>\n",
       "      <th>body</th>\n",
       "      <th>num_words</th>\n",
       "      <th>num_links</th>\n",
       "      <th>num_attachments</th>\n",
       "      <th>num_suspicious_attachments</th>\n",
       "      <th>has_html</th>\n",
       "      <th>spam_score</th>\n",
       "      <th>num_suspicious_links</th>\n",
       "      <th>is_fake_domain</th>\n",
       "      <th>is_missing_to</th>\n",
       "      <th>num_recipients</th>\n",
       "      <th>num_subject_words</th>\n",
       "      <th>label</th>\n",
       "    </tr>\n",
       "  </thead>\n",
       "  <tbody>\n",
       "    <tr>\n",
       "      <th>0</th>\n",
       "      <td>allen-p/_sent_mail/1.</td>\n",
       "      <td>phillip.allen@enron.com</td>\n",
       "      <td>tim.belden@enron.com</td>\n",
       "      <td>NaN</td>\n",
       "      <td>Mon, 14 May 2001 16:39:00 -0700 (PDT)</td>\n",
       "      <td>Here is our forecast\\n\\n</td>\n",
       "      <td>82</td>\n",
       "      <td>4</td>\n",
       "      <td>0</td>\n",
       "      <td>0</td>\n",
       "      <td>False</td>\n",
       "      <td>0</td>\n",
       "      <td>0</td>\n",
       "      <td>False</td>\n",
       "      <td>0</td>\n",
       "      <td>1</td>\n",
       "      <td>0</td>\n",
       "      <td>1</td>\n",
       "    </tr>\n",
       "    <tr>\n",
       "      <th>1</th>\n",
       "      <td>allen-p/_sent_mail/10.</td>\n",
       "      <td>phillip.allen@enron.com</td>\n",
       "      <td>john.lavorato@enron.com</td>\n",
       "      <td>Re:</td>\n",
       "      <td>Fri, 4 May 2001 13:51:00 -0700 (PDT)</td>\n",
       "      <td>Traveling to have a business meeting takes the...</td>\n",
       "      <td>222</td>\n",
       "      <td>3</td>\n",
       "      <td>0</td>\n",
       "      <td>0</td>\n",
       "      <td>False</td>\n",
       "      <td>0</td>\n",
       "      <td>0</td>\n",
       "      <td>False</td>\n",
       "      <td>0</td>\n",
       "      <td>1</td>\n",
       "      <td>1</td>\n",
       "      <td>1</td>\n",
       "    </tr>\n",
       "    <tr>\n",
       "      <th>2</th>\n",
       "      <td>allen-p/_sent_mail/100.</td>\n",
       "      <td>phillip.allen@enron.com</td>\n",
       "      <td>leah.arsdall@enron.com</td>\n",
       "      <td>Re: test</td>\n",
       "      <td>Wed, 18 Oct 2000 03:00:00 -0700 (PDT)</td>\n",
       "      <td>test successful.  way to go!!!</td>\n",
       "      <td>79</td>\n",
       "      <td>4</td>\n",
       "      <td>0</td>\n",
       "      <td>0</td>\n",
       "      <td>False</td>\n",
       "      <td>0</td>\n",
       "      <td>0</td>\n",
       "      <td>False</td>\n",
       "      <td>0</td>\n",
       "      <td>1</td>\n",
       "      <td>2</td>\n",
       "      <td>1</td>\n",
       "    </tr>\n",
       "  </tbody>\n",
       "</table>\n",
       "</div>"
      ],
      "text/plain": [
       "                  email_id                     from                       to  \\\n",
       "0    allen-p/_sent_mail/1.  phillip.allen@enron.com     tim.belden@enron.com   \n",
       "1   allen-p/_sent_mail/10.  phillip.allen@enron.com  john.lavorato@enron.com   \n",
       "2  allen-p/_sent_mail/100.  phillip.allen@enron.com   leah.arsdall@enron.com   \n",
       "\n",
       "    subject                                   date  \\\n",
       "0       NaN  Mon, 14 May 2001 16:39:00 -0700 (PDT)   \n",
       "1       Re:   Fri, 4 May 2001 13:51:00 -0700 (PDT)   \n",
       "2  Re: test  Wed, 18 Oct 2000 03:00:00 -0700 (PDT)   \n",
       "\n",
       "                                                body  num_words  num_links  \\\n",
       "0                          Here is our forecast\\n\\n          82          4   \n",
       "1  Traveling to have a business meeting takes the...        222          3   \n",
       "2                     test successful.  way to go!!!         79          4   \n",
       "\n",
       "   num_attachments  num_suspicious_attachments  has_html  spam_score  \\\n",
       "0                0                           0     False           0   \n",
       "1                0                           0     False           0   \n",
       "2                0                           0     False           0   \n",
       "\n",
       "   num_suspicious_links  is_fake_domain  is_missing_to  num_recipients  \\\n",
       "0                     0           False              0               1   \n",
       "1                     0           False              0               1   \n",
       "2                     0           False              0               1   \n",
       "\n",
       "   num_subject_words  label  \n",
       "0                  0      1  \n",
       "1                  1      1  \n",
       "2                  2      1  "
      ]
     },
     "execution_count": 4,
     "metadata": {},
     "output_type": "execute_result"
    }
   ],
   "source": [
    "df.head(3)"
   ]
  },
  {
   "cell_type": "markdown",
   "metadata": {},
   "source": [
    "## Show all columns in the dataset"
   ]
  },
  {
   "cell_type": "code",
   "execution_count": 5,
   "metadata": {},
   "outputs": [
    {
     "data": {
      "text/plain": [
       "Index(['email_id', 'from', 'to', 'subject', 'date', 'body', 'num_words',\n",
       "       'num_links', 'num_attachments', 'num_suspicious_attachments',\n",
       "       'has_html', 'spam_score', 'num_suspicious_links', 'is_fake_domain',\n",
       "       'is_missing_to', 'num_recipients', 'num_subject_words', 'label'],\n",
       "      dtype='object')"
      ]
     },
     "execution_count": 5,
     "metadata": {},
     "output_type": "execute_result"
    }
   ],
   "source": [
    "df.columns"
   ]
  },
  {
   "cell_type": "markdown",
   "metadata": {},
   "source": [
    "## 📊 Preparing Data for Machine Learning  \n",
    "\n",
    "### 🔍 Overview  \n",
    "This step extracts **key features** from the processed dataset and splits the data into **training and testing sets** for machine learning model development.\n",
    "\n",
    "### ⚡ Key Steps  \n",
    "✔ **Feature Selection** – Extracts relevant numerical features for spam classification.  \n",
    "✔ **Defines Target Variable (`y`)** – Uses the `label` column (spam = 1, not spam = 0).  \n",
    "✔ **Ensures Data Compatibility** – Converts boolean values to integers for ML models.  \n",
    "✔ **Splits Data for Training & Testing** – Uses an **80-20 split** to ensure **robust model evaluation**.  \n",
    "\n",
    "### 🚀 Why This is Important?  \n",
    "- **Essential for Machine Learning** – Ensures data is **structured and ready for training**.  \n",
    "- **Prevents Overfitting** – Using a **separate test set** ensures the model generalizes well.  \n",
    "- **Improves Model Performance** – A balanced split allows for **better evaluation and tuning**.  \n",
    "\n",
    "💡 **Next Step:** Train a **machine learning model** using `X_train` and `y_train`, then evaluate its performance on `X_test`! 🚀  \n"
   ]
  },
  {
   "cell_type": "code",
   "execution_count": 16,
   "metadata": {},
   "outputs": [
    {
     "name": "stdout",
     "output_type": "stream",
     "text": [
      "Splitting dataset into training and testing sets...\n"
     ]
    }
   ],
   "source": [
    "import pandas as pd\n",
    "import numpy as np\n",
    "from sklearn.model_selection import train_test_split\n",
    "\n",
    "# Define relevant features\n",
    "features = [\n",
    "    \"num_words\", \"num_links\", \"num_attachments\", \"num_suspicious_attachments\",\n",
    "    \"has_html\", \"spam_score\", \"num_suspicious_links\", \"is_fake_domain\",\n",
    "    \"is_missing_to\", \"num_recipients\", \"num_subject_words\"\n",
    "]\n",
    "\n",
    "# Extract X (features) and y (labels)\n",
    "X = df[features]\n",
    "y = df[\"label\"]\n",
    "\n",
    "# Convert boolean columns to integers\n",
    "X = X.astype(int)\n",
    "\n",
    "# Split into training (80%) and testing (20%) sets\n",
    "print(\"Splitting dataset into training and testing sets...\")\n",
    "X_train, X_test, y_train, y_test = train_test_split(X, y, test_size=0.2, random_state=42)\n"
   ]
  },
  {
   "cell_type": "code",
   "execution_count": 31,
   "metadata": {},
   "outputs": [
    {
     "name": "stdout",
     "output_type": "stream",
     "text": [
      "Decision Tree Accuracy: 0.9756\n"
     ]
    }
   ],
   "source": [
    "from sklearn.tree import DecisionTreeClassifier\n",
    "from sklearn.metrics import accuracy_score, classification_report\n",
    "\n",
    "\n",
    "simple_model = DecisionTreeClassifier(max_depth=3)\n",
    "simple_model.fit(X_train, y_train)\n",
    "y_simple_pred = simple_model.predict(X_test)\n",
    "\n",
    "print(\"Decision Tree Accuracy:\", accuracy_score(y_test, y_simple_pred))\n"
   ]
  },
  {
   "cell_type": "code",
   "execution_count": 30,
   "metadata": {},
   "outputs": [
    {
     "name": "stdout",
     "output_type": "stream",
     "text": [
      "Accuracy: 0.9997666666666667\n",
      "              precision    recall  f1-score   support\n",
      "\n",
      "           0       1.00      1.00      1.00      8755\n",
      "           1       1.00      1.00      1.00     21245\n",
      "\n",
      "    accuracy                           1.00     30000\n",
      "   macro avg       1.00      1.00      1.00     30000\n",
      "weighted avg       1.00      1.00      1.00     30000\n",
      "\n"
     ]
    }
   ],
   "source": [
    "from xgboost import XGBClassifier\n",
    "from sklearn.metrics import accuracy_score, classification_report\n",
    "\n",
    "model = XGBClassifier(\n",
    "    n_estimators=50,    # Reduce number of trees\n",
    "    max_depth=3,        # Reduce depth to prevent overfitting\n",
    "    learning_rate=0.1,  # Lower learning rate\n",
    "    reg_lambda=10,      # L2 regularization\n",
    "    reg_alpha=5,        # L1 regularization\n",
    "    tree_method='hist',\n",
    "    eval_metric=\"logloss\"\n",
    ")\n",
    "\n",
    "model.fit(X_train, y_train)\n",
    "y_pred = model.predict(X_test)\n",
    "\n",
    "print(\"Accuracy:\", accuracy_score(y_test, y_pred))\n",
    "print(classification_report(y_test, y_pred))\n"
   ]
  },
  {
   "cell_type": "markdown",
   "metadata": {},
   "source": [
    "## 🤖 Training & Evaluating a Logistic Regression Model  \n",
    "\n",
    "### 🔍 Overview  \n",
    "This step trains a **Logistic Regression model** on the email dataset to classify emails as **spam (1) or not spam (0)** and evaluates its performance.\n",
    "\n",
    "### ⚡ Key Steps  \n",
    "✔ **Trains a Logistic Regression Model** – Uses `max_iter=500` to ensure convergence.  \n",
    "✔ **Makes Predictions** – Uses the trained model to classify emails in the test set.  \n",
    "✔ **Evaluates Performance** – Computes **accuracy, precision, recall, and F1-score**.  \n",
    "\n",
    "### 🚀 Why This is Important?  \n",
    "- **Supervised Learning Approach** – Uses labeled data to train a **spam classifier**.  \n",
    "- **Measures Model Accuracy** – Helps assess how well the model distinguishes between spam and non-spam emails.  \n",
    "- **Provides Actionable Insights** – The **classification report** reveals areas for improvement.  \n",
    "\n",
    "💡 **Next Step:** Tune hyperparameters, test other models (e.g., Random Forest, XGBoost), and compare performance! 🚀  \n"
   ]
  },
  {
   "cell_type": "code",
   "execution_count": 39,
   "metadata": {},
   "outputs": [
    {
     "name": "stdout",
     "output_type": "stream",
     "text": [
      "Accuracy: 0.8707\n",
      "              precision    recall  f1-score   support\n",
      "\n",
      "           0       0.80      0.75      0.77      8827\n",
      "           1       0.90      0.92      0.91     21173\n",
      "\n",
      "    accuracy                           0.87     30000\n",
      "   macro avg       0.85      0.83      0.84     30000\n",
      "weighted avg       0.87      0.87      0.87     30000\n",
      "\n"
     ]
    }
   ],
   "source": [
    "from sklearn.linear_model import LogisticRegression\n",
    "from sklearn.metrics import accuracy_score, classification_report\n",
    "\n",
    "# Train model\n",
    "model = LogisticRegression(max_iter=500)\n",
    "model.fit(X_train, y_train)\n",
    "\n",
    "# Predict on test set\n",
    "y_pred = model.predict(X_test)\n",
    "\n",
    "# Evaluate model performance\n",
    "print(\"Accuracy:\", accuracy_score(y_test, y_pred))\n",
    "print(classification_report(y_test, y_pred))\n"
   ]
  },
  {
   "cell_type": "code",
   "execution_count": 45,
   "metadata": {},
   "outputs": [],
   "source": [
    "import matplotlib.pyplot as plt\n",
    "import numpy as np\n",
    "from sklearn.model_selection import learning_curve\n",
    "\n",
    "def plot_learning_curve(model, X, y, model_name=\"Model\", cv=5):\n",
    "    \"\"\"\n",
    "    Plots learning curves (training vs. validation accuracy).\n",
    "    \n",
    "    Parameters:\n",
    "    - model: The model to evaluate.\n",
    "    - X, y: Feature matrix and labels.\n",
    "    - model_name: Name of the model (for labeling).\n",
    "    - cv: Number of cross-validation folds.\n",
    "    \"\"\"\n",
    "    train_sizes, train_scores, val_scores = learning_curve(\n",
    "        model, X, y, cv=cv, scoring=\"accuracy\", train_sizes=np.linspace(0.1, 1.0, 10), n_jobs=-1\n",
    "    )\n",
    "\n",
    "    train_mean = np.mean(train_scores, axis=1)\n",
    "    val_mean = np.mean(val_scores, axis=1)\n",
    "\n",
    "    plt.figure(figsize=(8,5))\n",
    "    plt.plot(train_sizes, train_mean, label=\"Training Accuracy\", marker='o')\n",
    "    plt.plot(train_sizes, val_mean, label=\"Validation Accuracy\", marker='o')\n",
    "\n",
    "    plt.xlabel(\"Training Examples\")\n",
    "    plt.ylabel(\"Accuracy\")\n",
    "    plt.title(f\"Learning Curve - {model_name}\")\n",
    "    plt.legend()\n",
    "    plt.grid()\n",
    "    plt.show()\n"
   ]
  },
  {
   "cell_type": "markdown",
   "metadata": {},
   "source": [
    "## 🎯 Evaluating Model Performance with a Confusion Matrix  \n",
    "\n",
    "### 🔍 Overview  \n",
    "A **confusion matrix** provides a detailed breakdown of how well the model classifies emails as **spam (1) or not spam (0)** by showing **true positives, false positives, true negatives, and false negatives**.\n",
    "\n",
    "### ⚡ Key Insights  \n",
    "✔ **Visual Representation of Model Predictions** – Helps identify **misclassifications**.  \n",
    "✔ **Precision & Recall Analysis** – Understands how well the model **detects spam** without excessive false positives.  \n",
    "✔ **Measures Overall Accuracy** – Displays how often the model is correct.  \n",
    "\n",
    "### 🚀 Why This is Important?  \n",
    "- **Spam Detection Accuracy** – Ensures the model does not wrongly classify **legitimate emails as spam**.  \n",
    "- **Prevents False Negatives** – Ensures spam emails are not **mistakenly marked as safe**.  \n",
    "- **Guides Model Optimization** – Helps in **fine-tuning and improving classification performance**.  \n",
    "\n",
    "💡 **Next Step:** Analyze the confusion matrix results and refine the model by adjusting features or trying different algorithms! 🚀  \n"
   ]
  },
  {
   "cell_type": "code",
   "execution_count": 46,
   "metadata": {},
   "outputs": [
    {
     "data": {
      "image/png": "[encoded data removed]",
      "text/plain": [
       "<Figure size 800x500 with 1 Axes>"
      ]
     },
     "metadata": {},
     "output_type": "display_data"
    },
    {
     "data": {
      "image/png": "[encoded data removed]",
      "text/plain": [
       "<Figure size 600x500 with 2 Axes>"
      ]
     },
     "metadata": {},
     "output_type": "display_data"
    },
    {
     "name": "stdout",
     "output_type": "stream",
     "text": [
      "Accuracy: 0.8707\n",
      "              precision    recall  f1-score   support\n",
      "\n",
      "           0       0.80      0.75      0.77      8827\n",
      "           1       0.90      0.92      0.91     21173\n",
      "\n",
      "    accuracy                           0.87     30000\n",
      "   macro avg       0.85      0.83      0.84     30000\n",
      "weighted avg       0.87      0.87      0.87     30000\n",
      "\n"
     ]
    }
   ],
   "source": [
    "import matplotlib.pyplot as plt\n",
    "import seaborn as sns\n",
    "from sklearn.metrics import confusion_matrix, accuracy_score, classification_report\n",
    "\n",
    "# Generate predictions\n",
    "y_pred = model.predict(X_test)\n",
    "\n",
    "plot_learning_curve(model, X, y, model_name=\"Logistic Regression\")\n",
    "\n",
    "# Compute confusion matrix\n",
    "cm = confusion_matrix(y_test, y_pred)\n",
    "\n",
    "# Plot confusion matrix\n",
    "plt.figure(figsize=(6, 5))\n",
    "sns.heatmap(cm, annot=True, fmt=\"d\", cmap=\"Blues\", xticklabels=[\"Not Spam\", \"Spam\"], yticklabels=[\"Not Spam\", \"Spam\"])\n",
    "plt.xlabel(\"Predicted Label\")\n",
    "plt.ylabel(\"True Label\")\n",
    "plt.title(\"Confusion Matrix\")\n",
    "plt.show()\n",
    "\n",
    "\n",
    "# Print accuracy and classification report\n",
    "print(\"Accuracy:\", accuracy_score(y_test, y_pred))\n",
    "print(classification_report(y_test, y_pred))\n"
   ]
  },
  {
   "cell_type": "markdown",
   "metadata": {},
   "source": [
    "# Fine-Tuning Logistic Regression for Spam Detection\n",
    "\n",
    "This script optimizes and evaluates **Logistic Regression** for classifying emails as **spam or safe**.\n",
    "\n",
    "## Steps:\n",
    "\n",
    "1. **Load and preprocess the dataset**  \n",
    "   - Selects important email features like word count, links, attachments, and spam scores.  \n",
    "   - Splits the data into training and test sets while maintaining class balance.  \n",
    "\n",
    "2. **Apply Feature Scaling**  \n",
    "   - Standardizes numerical features using **StandardScaler** to improve model performance.  \n",
    "\n",
    "3. **Hyperparameter Tuning using GridSearchCV**  \n",
    "   - Tests different **regularization strengths (`C`)** to balance bias and variance.  \n",
    "   - Compares **solvers (`liblinear` and `saga`)** for stability and efficiency.  \n",
    "   - Adjusts **iteration limits (`max_iter`)** to ensure proper model convergence.  \n",
    "\n",
    "4. **Train the best Logistic Regression model** using the optimal parameters found via GridSearchCV.  \n",
    "\n",
    "This process ensures a **high-performing, fine-tuned Logistic Regression model for spam detection**.\n"
   ]
  },
  {
   "cell_type": "code",
   "execution_count": null,
   "metadata": {},
   "outputs": [
    {
     "name": "stdout",
     "output_type": "stream",
     "text": [
      "Shape of X before split: (150000, 11)\n",
      "Shape of y before split: (150000,)\n"
     ]
    }
   ],
   "source": [
    "# Import necessary libraries\n",
    "from sklearn.linear_model import LogisticRegression\n",
    "from sklearn.preprocessing import StandardScaler\n",
    "from sklearn.model_selection import train_test_split, GridSearchCV\n",
    "from sklearn.metrics import accuracy_score, classification_report\n",
    "\n",
    "# Define the features to use\n",
    "features = [\n",
    "    \"num_words\", \"num_links\", \"num_attachments\", \"num_suspicious_attachments\",\n",
    "    \"has_html\", \"spam_score\", \"num_suspicious_links\", \"is_fake_domain\",\n",
    "    \"is_missing_to\", \"num_recipients\", \"num_subject_words\"\n",
    "]\n",
    "\n",
    "# Select features and target variable\n",
    "X = df[features]\n",
    "y = df['label']\n",
    "\n",
    "# **Step 1: Train-Test Split (with Stratification)**\n",
    "print(\"Shape of X before split:\", X.shape)\n",
    "print(\"Shape of y before split:\", y.shape)\n",
    "\n",
    "X_train, X_test, y_train, y_test = train_test_split(\n",
    "    X, y, test_size=0.2, random_state=42, stratify=y\n",
    ")\n",
    "\n",
    "# **Step 2: Apply Feature Scaling (AFTER splitting)**\n",
    "scaler = StandardScaler()\n",
    "X_train_scaled = scaler.fit_transform(X_train)\n",
    "X_test_scaled = scaler.transform(X_test)\n",
    "\n",
    "# Ensure the shapes match\n",
    "print(\"Shape of X_train after scaling:\", X_train_scaled.shape)\n",
    "print(\"Shape of y_train:\", y_train.shape)\n",
    "\n",
    "# Convert y_train to 1D array (if needed)\n",
    "y_train = y_train.values.ravel()\n",
    "\n",
    "# **Step 3: Define Parameter Grid for GridSearchCV**\n",
    "param_grid = {\n",
    "    'C': [0.01, 0.1, 1, 10],  # Regularization strength\n",
    "    'solver': ['liblinear', 'saga'],  # Stable solvers\n",
    "    'max_iter': [500, 1000]  # Increase iteration limit\n",
    "}\n",
    "\n",
    "# **Step 4: Perform Grid Search**\n",
    "log_reg = LogisticRegression()\n",
    "grid_search = GridSearchCV(log_reg, param_grid, cv=5, scoring='accuracy', n_jobs=-1)\n",
    "grid_search.fit(X_train_scaled, y_train)\n",
    "\n",
    "# **Step 5: Get Best Parameters & Train Final Model**\n",
    "best_params = grid_search.best_params_\n",
    "print(\"Best parameters for Logistic Regression:\", best_params)\n",
    "\n",
    "\n"
   ]
  },
  {
   "cell_type": "markdown",
   "metadata": {},
   "source": [
    "After getting the best parameters through fine tunning, i observed warnings that the model did not converge well so i decided to increase the max_iter to 2000 and then evaluate the model after fine tunning"
   ]
  },
  {
   "cell_type": "code",
   "execution_count": 48,
   "metadata": {},
   "outputs": [
    {
     "data": {
      "image/png": "[encoded data removed]",
      "text/plain": [
       "<Figure size 600x500 with 2 Axes>"
      ]
     },
     "metadata": {},
     "output_type": "display_data"
    },
    {
     "name": "stdout",
     "output_type": "stream",
     "text": [
      "\n",
      "Final Logistic Regression Accuracy: 0.8717666666666667\n",
      "\n",
      "Classification Report:\n",
      "               precision    recall  f1-score   support\n",
      "\n",
      "           0       0.80      0.75      0.77      8827\n",
      "           1       0.90      0.92      0.91     21173\n",
      "\n",
      "    accuracy                           0.87     30000\n",
      "   macro avg       0.85      0.84      0.84     30000\n",
      "weighted avg       0.87      0.87      0.87     30000\n",
      "\n"
     ]
    },
    {
     "name": "stderr",
     "output_type": "stream",
     "text": [
      "/home/olakunle/Email_Threat_Detection_AI/venv/lib/python3.8/site-packages/sklearn/linear_model/_sag.py:350: ConvergenceWarning: The max_iter was reached which means the coef_ did not converge\n",
      "  warnings.warn(\n",
      "/home/olakunle/Email_Threat_Detection_AI/venv/lib/python3.8/site-packages/sklearn/linear_model/_sag.py:350: ConvergenceWarning: The max_iter was reached which means the coef_ did not converge\n",
      "  warnings.warn(\n"
     ]
    },
    {
     "ename": "KeyboardInterrupt",
     "evalue": "",
     "output_type": "error",
     "traceback": [
      "\u001b[0;31m---------------------------------------------------------------------------\u001b[0m",
      "\u001b[0;31mKeyboardInterrupt\u001b[0m                         Traceback (most recent call last)",
      "Cell \u001b[0;32mIn[48], line 26\u001b[0m\n\u001b[1;32m     23\u001b[0m \u001b[38;5;28mprint\u001b[39m(\u001b[38;5;124m\"\u001b[39m\u001b[38;5;130;01m\\n\u001b[39;00m\u001b[38;5;124mFinal Logistic Regression Accuracy:\u001b[39m\u001b[38;5;124m\"\u001b[39m, accuracy_score(y_test, y_pred))\n\u001b[1;32m     24\u001b[0m \u001b[38;5;28mprint\u001b[39m(\u001b[38;5;124m\"\u001b[39m\u001b[38;5;130;01m\\n\u001b[39;00m\u001b[38;5;124mClassification Report:\u001b[39m\u001b[38;5;130;01m\\n\u001b[39;00m\u001b[38;5;124m\"\u001b[39m, classification_report(y_test, y_pred))\n\u001b[0;32m---> 26\u001b[0m \u001b[43mplot_learning_curve\u001b[49m\u001b[43m(\u001b[49m\u001b[43mbest_model\u001b[49m\u001b[43m,\u001b[49m\u001b[43m \u001b[49m\u001b[43mX\u001b[49m\u001b[43m,\u001b[49m\u001b[43m \u001b[49m\u001b[43my\u001b[49m\u001b[43m,\u001b[49m\u001b[43m \u001b[49m\u001b[43mmodel_name\u001b[49m\u001b[38;5;241;43m=\u001b[39;49m\u001b[38;5;124;43m\"\u001b[39;49m\u001b[38;5;124;43mLogistic Regression (Optimized)\u001b[39;49m\u001b[38;5;124;43m\"\u001b[39;49m\u001b[43m)\u001b[49m\n",
      "Cell \u001b[0;32mIn[45], line 15\u001b[0m, in \u001b[0;36mplot_learning_curve\u001b[0;34m(model, X, y, model_name, cv)\u001b[0m\n\u001b[1;32m      5\u001b[0m \u001b[38;5;28;01mdef\u001b[39;00m\u001b[38;5;250m \u001b[39m\u001b[38;5;21mplot_learning_curve\u001b[39m(model, X, y, model_name\u001b[38;5;241m=\u001b[39m\u001b[38;5;124m\"\u001b[39m\u001b[38;5;124mModel\u001b[39m\u001b[38;5;124m\"\u001b[39m, cv\u001b[38;5;241m=\u001b[39m\u001b[38;5;241m5\u001b[39m):\n\u001b[1;32m      6\u001b[0m \u001b[38;5;250m    \u001b[39m\u001b[38;5;124;03m\"\"\"\u001b[39;00m\n\u001b[1;32m      7\u001b[0m \u001b[38;5;124;03m    Plots learning curves (training vs. validation accuracy).\u001b[39;00m\n\u001b[1;32m      8\u001b[0m \u001b[38;5;124;03m    \u001b[39;00m\n\u001b[0;32m   (...)\u001b[0m\n\u001b[1;32m     13\u001b[0m \u001b[38;5;124;03m    - cv: Number of cross-validation folds.\u001b[39;00m\n\u001b[1;32m     14\u001b[0m \u001b[38;5;124;03m    \"\"\"\u001b[39;00m\n\u001b[0;32m---> 15\u001b[0m     train_sizes, train_scores, val_scores \u001b[38;5;241m=\u001b[39m \u001b[43mlearning_curve\u001b[49m\u001b[43m(\u001b[49m\n\u001b[1;32m     16\u001b[0m \u001b[43m        \u001b[49m\u001b[43mmodel\u001b[49m\u001b[43m,\u001b[49m\u001b[43m \u001b[49m\u001b[43mX\u001b[49m\u001b[43m,\u001b[49m\u001b[43m \u001b[49m\u001b[43my\u001b[49m\u001b[43m,\u001b[49m\u001b[43m \u001b[49m\u001b[43mcv\u001b[49m\u001b[38;5;241;43m=\u001b[39;49m\u001b[43mcv\u001b[49m\u001b[43m,\u001b[49m\u001b[43m \u001b[49m\u001b[43mscoring\u001b[49m\u001b[38;5;241;43m=\u001b[39;49m\u001b[38;5;124;43m\"\u001b[39;49m\u001b[38;5;124;43maccuracy\u001b[39;49m\u001b[38;5;124;43m\"\u001b[39;49m\u001b[43m,\u001b[49m\u001b[43m \u001b[49m\u001b[43mtrain_sizes\u001b[49m\u001b[38;5;241;43m=\u001b[39;49m\u001b[43mnp\u001b[49m\u001b[38;5;241;43m.\u001b[39;49m\u001b[43mlinspace\u001b[49m\u001b[43m(\u001b[49m\u001b[38;5;241;43m0.1\u001b[39;49m\u001b[43m,\u001b[49m\u001b[43m \u001b[49m\u001b[38;5;241;43m1.0\u001b[39;49m\u001b[43m,\u001b[49m\u001b[43m \u001b[49m\u001b[38;5;241;43m10\u001b[39;49m\u001b[43m)\u001b[49m\u001b[43m,\u001b[49m\u001b[43m \u001b[49m\u001b[43mn_jobs\u001b[49m\u001b[38;5;241;43m=\u001b[39;49m\u001b[38;5;241;43m-\u001b[39;49m\u001b[38;5;241;43m1\u001b[39;49m\n\u001b[1;32m     17\u001b[0m \u001b[43m    \u001b[49m\u001b[43m)\u001b[49m\n\u001b[1;32m     19\u001b[0m     train_mean \u001b[38;5;241m=\u001b[39m np\u001b[38;5;241m.\u001b[39mmean(train_scores, axis\u001b[38;5;241m=\u001b[39m\u001b[38;5;241m1\u001b[39m)\n\u001b[1;32m     20\u001b[0m     val_mean \u001b[38;5;241m=\u001b[39m np\u001b[38;5;241m.\u001b[39mmean(val_scores, axis\u001b[38;5;241m=\u001b[39m\u001b[38;5;241m1\u001b[39m)\n",
      "File \u001b[0;32m~/Email_Threat_Detection_AI/venv/lib/python3.8/site-packages/sklearn/utils/_param_validation.py:214\u001b[0m, in \u001b[0;36mvalidate_params.<locals>.decorator.<locals>.wrapper\u001b[0;34m(*args, **kwargs)\u001b[0m\n\u001b[1;32m    208\u001b[0m \u001b[38;5;28;01mtry\u001b[39;00m:\n\u001b[1;32m    209\u001b[0m     \u001b[38;5;28;01mwith\u001b[39;00m config_context(\n\u001b[1;32m    210\u001b[0m         skip_parameter_validation\u001b[38;5;241m=\u001b[39m(\n\u001b[1;32m    211\u001b[0m             prefer_skip_nested_validation \u001b[38;5;129;01mor\u001b[39;00m global_skip_validation\n\u001b[1;32m    212\u001b[0m         )\n\u001b[1;32m    213\u001b[0m     ):\n\u001b[0;32m--> 214\u001b[0m         \u001b[38;5;28;01mreturn\u001b[39;00m \u001b[43mfunc\u001b[49m\u001b[43m(\u001b[49m\u001b[38;5;241;43m*\u001b[39;49m\u001b[43margs\u001b[49m\u001b[43m,\u001b[49m\u001b[43m \u001b[49m\u001b[38;5;241;43m*\u001b[39;49m\u001b[38;5;241;43m*\u001b[39;49m\u001b[43mkwargs\u001b[49m\u001b[43m)\u001b[49m\n\u001b[1;32m    215\u001b[0m \u001b[38;5;28;01mexcept\u001b[39;00m InvalidParameterError \u001b[38;5;28;01mas\u001b[39;00m e:\n\u001b[1;32m    216\u001b[0m     \u001b[38;5;66;03m# When the function is just a wrapper around an estimator, we allow\u001b[39;00m\n\u001b[1;32m    217\u001b[0m     \u001b[38;5;66;03m# the function to delegate validation to the estimator, but we replace\u001b[39;00m\n\u001b[1;32m    218\u001b[0m     \u001b[38;5;66;03m# the name of the estimator by the name of the function in the error\u001b[39;00m\n\u001b[1;32m    219\u001b[0m     \u001b[38;5;66;03m# message to avoid confusion.\u001b[39;00m\n\u001b[1;32m    220\u001b[0m     msg \u001b[38;5;241m=\u001b[39m re\u001b[38;5;241m.\u001b[39msub(\n\u001b[1;32m    221\u001b[0m         \u001b[38;5;124mr\u001b[39m\u001b[38;5;124m\"\u001b[39m\u001b[38;5;124mparameter of \u001b[39m\u001b[38;5;124m\\\u001b[39m\u001b[38;5;124mw+ must be\u001b[39m\u001b[38;5;124m\"\u001b[39m,\n\u001b[1;32m    222\u001b[0m         \u001b[38;5;124mf\u001b[39m\u001b[38;5;124m\"\u001b[39m\u001b[38;5;124mparameter of \u001b[39m\u001b[38;5;132;01m{\u001b[39;00mfunc\u001b[38;5;241m.\u001b[39m\u001b[38;5;18m__qualname__\u001b[39m\u001b[38;5;132;01m}\u001b[39;00m\u001b[38;5;124m must be\u001b[39m\u001b[38;5;124m\"\u001b[39m,\n\u001b[1;32m    223\u001b[0m         \u001b[38;5;28mstr\u001b[39m(e),\n\u001b[1;32m    224\u001b[0m     )\n",
      "File \u001b[0;32m~/Email_Threat_Detection_AI/venv/lib/python3.8/site-packages/sklearn/model_selection/_validation.py:1683\u001b[0m, in \u001b[0;36mlearning_curve\u001b[0;34m(estimator, X, y, groups, train_sizes, cv, scoring, exploit_incremental_learning, n_jobs, pre_dispatch, verbose, shuffle, random_state, error_score, return_times, fit_params)\u001b[0m\n\u001b[1;32m   1680\u001b[0m     \u001b[38;5;28;01mfor\u001b[39;00m n_train_samples \u001b[38;5;129;01min\u001b[39;00m train_sizes_abs:\n\u001b[1;32m   1681\u001b[0m         train_test_proportions\u001b[38;5;241m.\u001b[39mappend((train[:n_train_samples], test))\n\u001b[0;32m-> 1683\u001b[0m results \u001b[38;5;241m=\u001b[39m \u001b[43mparallel\u001b[49m\u001b[43m(\u001b[49m\n\u001b[1;32m   1684\u001b[0m \u001b[43m    \u001b[49m\u001b[43mdelayed\u001b[49m\u001b[43m(\u001b[49m\u001b[43m_fit_and_score\u001b[49m\u001b[43m)\u001b[49m\u001b[43m(\u001b[49m\n\u001b[1;32m   1685\u001b[0m \u001b[43m        \u001b[49m\u001b[43mclone\u001b[49m\u001b[43m(\u001b[49m\u001b[43mestimator\u001b[49m\u001b[43m)\u001b[49m\u001b[43m,\u001b[49m\n\u001b[1;32m   1686\u001b[0m \u001b[43m        \u001b[49m\u001b[43mX\u001b[49m\u001b[43m,\u001b[49m\n\u001b[1;32m   1687\u001b[0m \u001b[43m        \u001b[49m\u001b[43my\u001b[49m\u001b[43m,\u001b[49m\n\u001b[1;32m   1688\u001b[0m \u001b[43m        \u001b[49m\u001b[43mscorer\u001b[49m\u001b[43m,\u001b[49m\n\u001b[1;32m   1689\u001b[0m \u001b[43m        \u001b[49m\u001b[43mtrain\u001b[49m\u001b[43m,\u001b[49m\n\u001b[1;32m   1690\u001b[0m \u001b[43m        \u001b[49m\u001b[43mtest\u001b[49m\u001b[43m,\u001b[49m\n\u001b[1;32m   1691\u001b[0m \u001b[43m        \u001b[49m\u001b[43mverbose\u001b[49m\u001b[43m,\u001b[49m\n\u001b[1;32m   1692\u001b[0m \u001b[43m        \u001b[49m\u001b[43mparameters\u001b[49m\u001b[38;5;241;43m=\u001b[39;49m\u001b[38;5;28;43;01mNone\u001b[39;49;00m\u001b[43m,\u001b[49m\n\u001b[1;32m   1693\u001b[0m \u001b[43m        \u001b[49m\u001b[43mfit_params\u001b[49m\u001b[38;5;241;43m=\u001b[39;49m\u001b[43mfit_params\u001b[49m\u001b[43m,\u001b[49m\n\u001b[1;32m   1694\u001b[0m \u001b[43m        \u001b[49m\u001b[43mreturn_train_score\u001b[49m\u001b[38;5;241;43m=\u001b[39;49m\u001b[38;5;28;43;01mTrue\u001b[39;49;00m\u001b[43m,\u001b[49m\n\u001b[1;32m   1695\u001b[0m \u001b[43m        \u001b[49m\u001b[43merror_score\u001b[49m\u001b[38;5;241;43m=\u001b[39;49m\u001b[43merror_score\u001b[49m\u001b[43m,\u001b[49m\n\u001b[1;32m   1696\u001b[0m \u001b[43m        \u001b[49m\u001b[43mreturn_times\u001b[49m\u001b[38;5;241;43m=\u001b[39;49m\u001b[43mreturn_times\u001b[49m\u001b[43m,\u001b[49m\n\u001b[1;32m   1697\u001b[0m \u001b[43m    \u001b[49m\u001b[43m)\u001b[49m\n\u001b[1;32m   1698\u001b[0m \u001b[43m    \u001b[49m\u001b[38;5;28;43;01mfor\u001b[39;49;00m\u001b[43m \u001b[49m\u001b[43mtrain\u001b[49m\u001b[43m,\u001b[49m\u001b[43m \u001b[49m\u001b[43mtest\u001b[49m\u001b[43m \u001b[49m\u001b[38;5;129;43;01min\u001b[39;49;00m\u001b[43m \u001b[49m\u001b[43mtrain_test_proportions\u001b[49m\n\u001b[1;32m   1699\u001b[0m \u001b[43m\u001b[49m\u001b[43m)\u001b[49m\n\u001b[1;32m   1700\u001b[0m results \u001b[38;5;241m=\u001b[39m _aggregate_score_dicts(results)\n\u001b[1;32m   1701\u001b[0m train_scores \u001b[38;5;241m=\u001b[39m results[\u001b[38;5;124m\"\u001b[39m\u001b[38;5;124mtrain_scores\u001b[39m\u001b[38;5;124m\"\u001b[39m]\u001b[38;5;241m.\u001b[39mreshape(\u001b[38;5;241m-\u001b[39m\u001b[38;5;241m1\u001b[39m, n_unique_ticks)\u001b[38;5;241m.\u001b[39mT\n",
      "File \u001b[0;32m~/Email_Threat_Detection_AI/venv/lib/python3.8/site-packages/sklearn/utils/parallel.py:65\u001b[0m, in \u001b[0;36mParallel.__call__\u001b[0;34m(self, iterable)\u001b[0m\n\u001b[1;32m     60\u001b[0m config \u001b[38;5;241m=\u001b[39m get_config()\n\u001b[1;32m     61\u001b[0m iterable_with_config \u001b[38;5;241m=\u001b[39m (\n\u001b[1;32m     62\u001b[0m     (_with_config(delayed_func, config), args, kwargs)\n\u001b[1;32m     63\u001b[0m     \u001b[38;5;28;01mfor\u001b[39;00m delayed_func, args, kwargs \u001b[38;5;129;01min\u001b[39;00m iterable\n\u001b[1;32m     64\u001b[0m )\n\u001b[0;32m---> 65\u001b[0m \u001b[38;5;28;01mreturn\u001b[39;00m \u001b[38;5;28;43msuper\u001b[39;49m\u001b[43m(\u001b[49m\u001b[43m)\u001b[49m\u001b[38;5;241;43m.\u001b[39;49m\u001b[38;5;21;43m__call__\u001b[39;49m\u001b[43m(\u001b[49m\u001b[43miterable_with_config\u001b[49m\u001b[43m)\u001b[49m\n",
      "File \u001b[0;32m~/Email_Threat_Detection_AI/venv/lib/python3.8/site-packages/joblib/parallel.py:2007\u001b[0m, in \u001b[0;36mParallel.__call__\u001b[0;34m(self, iterable)\u001b[0m\n\u001b[1;32m   2001\u001b[0m \u001b[38;5;66;03m# The first item from the output is blank, but it makes the interpreter\u001b[39;00m\n\u001b[1;32m   2002\u001b[0m \u001b[38;5;66;03m# progress until it enters the Try/Except block of the generator and\u001b[39;00m\n\u001b[1;32m   2003\u001b[0m \u001b[38;5;66;03m# reaches the first `yield` statement. This starts the asynchronous\u001b[39;00m\n\u001b[1;32m   2004\u001b[0m \u001b[38;5;66;03m# dispatch of the tasks to the workers.\u001b[39;00m\n\u001b[1;32m   2005\u001b[0m \u001b[38;5;28mnext\u001b[39m(output)\n\u001b[0;32m-> 2007\u001b[0m \u001b[38;5;28;01mreturn\u001b[39;00m output \u001b[38;5;28;01mif\u001b[39;00m \u001b[38;5;28mself\u001b[39m\u001b[38;5;241m.\u001b[39mreturn_generator \u001b[38;5;28;01melse\u001b[39;00m \u001b[38;5;28;43mlist\u001b[39;49m\u001b[43m(\u001b[49m\u001b[43moutput\u001b[49m\u001b[43m)\u001b[49m\n",
      "File \u001b[0;32m~/Email_Threat_Detection_AI/venv/lib/python3.8/site-packages/joblib/parallel.py:1650\u001b[0m, in \u001b[0;36mParallel._get_outputs\u001b[0;34m(self, iterator, pre_dispatch)\u001b[0m\n\u001b[1;32m   1647\u001b[0m     \u001b[38;5;28;01myield\u001b[39;00m\n\u001b[1;32m   1649\u001b[0m     \u001b[38;5;28;01mwith\u001b[39;00m \u001b[38;5;28mself\u001b[39m\u001b[38;5;241m.\u001b[39m_backend\u001b[38;5;241m.\u001b[39mretrieval_context():\n\u001b[0;32m-> 1650\u001b[0m         \u001b[38;5;28;01myield from\u001b[39;00m \u001b[38;5;28mself\u001b[39m\u001b[38;5;241m.\u001b[39m_retrieve()\n\u001b[1;32m   1652\u001b[0m \u001b[38;5;28;01mexcept\u001b[39;00m \u001b[38;5;167;01mGeneratorExit\u001b[39;00m:\n\u001b[1;32m   1653\u001b[0m     \u001b[38;5;66;03m# The generator has been garbage collected before being fully\u001b[39;00m\n\u001b[1;32m   1654\u001b[0m     \u001b[38;5;66;03m# consumed. This aborts the remaining tasks if possible and warn\u001b[39;00m\n\u001b[1;32m   1655\u001b[0m     \u001b[38;5;66;03m# the user if necessary.\u001b[39;00m\n\u001b[1;32m   1656\u001b[0m     \u001b[38;5;28mself\u001b[39m\u001b[38;5;241m.\u001b[39m_exception \u001b[38;5;241m=\u001b[39m \u001b[38;5;28;01mTrue\u001b[39;00m\n",
      "File \u001b[0;32m~/Email_Threat_Detection_AI/venv/lib/python3.8/site-packages/joblib/parallel.py:1762\u001b[0m, in \u001b[0;36mParallel._retrieve\u001b[0;34m(self)\u001b[0m\n\u001b[1;32m   1757\u001b[0m \u001b[38;5;66;03m# If the next job is not ready for retrieval yet, we just wait for\u001b[39;00m\n\u001b[1;32m   1758\u001b[0m \u001b[38;5;66;03m# async callbacks to progress.\u001b[39;00m\n\u001b[1;32m   1759\u001b[0m \u001b[38;5;28;01mif\u001b[39;00m ((\u001b[38;5;28mlen\u001b[39m(\u001b[38;5;28mself\u001b[39m\u001b[38;5;241m.\u001b[39m_jobs) \u001b[38;5;241m==\u001b[39m \u001b[38;5;241m0\u001b[39m) \u001b[38;5;129;01mor\u001b[39;00m\n\u001b[1;32m   1760\u001b[0m     (\u001b[38;5;28mself\u001b[39m\u001b[38;5;241m.\u001b[39m_jobs[\u001b[38;5;241m0\u001b[39m]\u001b[38;5;241m.\u001b[39mget_status(\n\u001b[1;32m   1761\u001b[0m         timeout\u001b[38;5;241m=\u001b[39m\u001b[38;5;28mself\u001b[39m\u001b[38;5;241m.\u001b[39mtimeout) \u001b[38;5;241m==\u001b[39m TASK_PENDING)):\n\u001b[0;32m-> 1762\u001b[0m     \u001b[43mtime\u001b[49m\u001b[38;5;241;43m.\u001b[39;49m\u001b[43msleep\u001b[49m\u001b[43m(\u001b[49m\u001b[38;5;241;43m0.01\u001b[39;49m\u001b[43m)\u001b[49m\n\u001b[1;32m   1763\u001b[0m     \u001b[38;5;28;01mcontinue\u001b[39;00m\n\u001b[1;32m   1765\u001b[0m \u001b[38;5;66;03m# We need to be careful: the job list can be filling up as\u001b[39;00m\n\u001b[1;32m   1766\u001b[0m \u001b[38;5;66;03m# we empty it and Python list are not thread-safe by\u001b[39;00m\n\u001b[1;32m   1767\u001b[0m \u001b[38;5;66;03m# default hence the use of the lock\u001b[39;00m\n",
      "\u001b[0;31mKeyboardInterrupt\u001b[0m: "
     ]
    }
   ],
   "source": [
    "from sklearn.linear_model import LogisticRegression\n",
    "from sklearn.metrics import accuracy_score, classification_report, confusion_matrix\n",
    "import matplotlib.pyplot as plt\n",
    "import seaborn as sns\n",
    "\n",
    "best_model = LogisticRegression(C=10, solver='saga', max_iter=2000)\n",
    "best_model.fit(X_train_scaled, y_train)\n",
    "\n",
    "# **Step 6: Evaluate Model Performance**\n",
    "y_pred = best_model.predict(X_test_scaled)\n",
    "\n",
    "# Compute confusion matrix\n",
    "cm = confusion_matrix(y_test, y_pred)\n",
    "\n",
    "# Plot confusion matrix\n",
    "plt.figure(figsize=(6, 5))\n",
    "sns.heatmap(cm, annot=True, fmt=\"d\", cmap=\"Blues\", xticklabels=[\"Not Spam\", \"Spam\"], yticklabels=[\"Not Spam\", \"Spam\"])\n",
    "plt.xlabel(\"Predicted Label\")\n",
    "plt.ylabel(\"True Label\")\n",
    "plt.title(\"Confusion Matrix\")\n",
    "plt.show()\n",
    "\n",
    "print(\"\\nFinal Logistic Regression Accuracy:\", accuracy_score(y_test, y_pred))\n",
    "print(\"\\nClassification Report:\\n\", classification_report(y_test, y_pred))\n",
    "\n",
    "plot_learning_curve(best_model, X, y, model_name=\"Logistic Regression (Optimized)\")\n"
   ]
  },
  {
   "cell_type": "markdown",
   "metadata": {},
   "source": [
    "# Complement Naïve Bayes for Spam Detection\n",
    "\n",
    "This script trains and evaluates **Complement Naïve Bayes (ComplementNB)** to classify emails as **spam or safe**.\n",
    "\n",
    "## Steps:\n",
    "\n",
    "1. **Load and preprocess the dataset**  \n",
    "   - Selects key features such as word count, links, attachments, and spam scores.  \n",
    "   - Splits the dataset into training and test sets while maintaining class balance.  \n",
    "\n",
    "2. **Train the ComplementNB model**  \n",
    "   - This model is well-suited for imbalanced datasets, making it effective for spam detection.  \n",
    "\n",
    "3. **Make predictions** on the test set.  \n",
    "\n",
    "4. **Evaluate performance**  \n",
    "   - Calculates **accuracy, precision, recall, and F1-score** to assess how well the model distinguishes spam from safe emails.  \n",
    "\n",
    "This approach ensures a **reliable spam detection model using ComplementNB**.\n"
   ]
  },
  {
   "cell_type": "code",
   "execution_count": 49,
   "metadata": {},
   "outputs": [
    {
     "data": {
      "image/png": "[encoded data removed]",
      "text/plain": [
       "<Figure size 600x500 with 2 Axes>"
      ]
     },
     "metadata": {},
     "output_type": "display_data"
    },
    {
     "name": "stdout",
     "output_type": "stream",
     "text": [
      "Complement Naïve Bayes Accuracy: 0.7105666666666667\n",
      "\n",
      "Classification Report:\n",
      "               precision    recall  f1-score   support\n",
      "\n",
      "           0       0.50      0.94      0.66      8827\n",
      "           1       0.96      0.61      0.75     21173\n",
      "\n",
      "    accuracy                           0.71     30000\n",
      "   macro avg       0.73      0.78      0.70     30000\n",
      "weighted avg       0.83      0.71      0.72     30000\n",
      "\n"
     ]
    },
    {
     "data": {
      "image/png": "[encoded data removed]",
      "text/plain": [
       "<Figure size 800x500 with 1 Axes>"
      ]
     },
     "metadata": {},
     "output_type": "display_data"
    }
   ],
   "source": [
    "# Import necessary libraries\n",
    "from sklearn.model_selection import train_test_split\n",
    "from sklearn.naive_bayes import ComplementNB  # ComplementNB is better for imbalanced datasets\n",
    "from sklearn.metrics import accuracy_score, classification_report\n",
    "\n",
    "# Define the features to use\n",
    "features = [\n",
    "    \"num_words\", \"num_links\", \"num_attachments\", \"num_suspicious_attachments\",\n",
    "    \"has_html\", \"spam_score\", \"num_suspicious_links\", \"is_fake_domain\",\n",
    "    \"is_missing_to\", \"num_recipients\", \"num_subject_words\"\n",
    "]\n",
    "\n",
    "# Select features and target variable\n",
    "X = df[features]  # Use only the engineered features\n",
    "y = df['label']   # Target column (0 = Safe, 1 = Spam)\n",
    "\n",
    "# Split dataset into train and test sets\n",
    "X_train, X_test, y_train, y_test = train_test_split(\n",
    "    X, y, test_size=0.2, random_state=42, stratify=y\n",
    ")\n",
    "\n",
    "# Train Complement Naïve Bayes Model\n",
    "nb_model = ComplementNB()  # Better for imbalanced data\n",
    "nb_model.fit(X_train, y_train)\n",
    "\n",
    "# Predictions\n",
    "y_pred = nb_model.predict(X_test)\n",
    "\n",
    "# Compute confusion matrix\n",
    "cm = confusion_matrix(y_test, y_pred)\n",
    "\n",
    "# Plot confusion matrix\n",
    "plt.figure(figsize=(6, 5))\n",
    "sns.heatmap(cm, annot=True, fmt=\"d\", cmap=\"Blues\", xticklabels=[\"Not Spam\", \"Spam\"], yticklabels=[\"Not Spam\", \"Spam\"])\n",
    "plt.xlabel(\"Predicted Label\")\n",
    "plt.ylabel(\"True Label\")\n",
    "plt.title(\"Confusion Matrix\")\n",
    "plt.show()\n",
    "\n",
    "# Evaluate Performance\n",
    "print(\"Complement Naïve Bayes Accuracy:\", accuracy_score(y_test, y_pred))\n",
    "print(\"\\nClassification Report:\\n\", classification_report(y_test, y_pred))\n",
    "\n",
    "plot_learning_curve(nb_model, X, y, model_name=\"Complement Naïve Bayes\")\n"
   ]
  },
  {
   "cell_type": "markdown",
   "metadata": {},
   "source": [
    "# Fine-Tuning Complement Naïve Bayes for Spam Detection\n",
    "\n",
    "This script fine-tunes and evaluates **Complement Naïve Bayes (ComplementNB)** for classifying emails as **spam or safe**.\n",
    "\n",
    "## Steps:\n",
    "\n",
    "1. **Load and preprocess the dataset**  \n",
    "   - Selects key features like word count, links, attachments, and spam scores.  \n",
    "   - Splits data into training and test sets while maintaining class balance.  \n",
    "\n",
    "2. **Hyperparameter Tuning (`alpha`)**  \n",
    "   - Uses **GridSearchCV** to find the optimal `alpha` value, which controls additive smoothing.  \n",
    "   - Evaluates different values (`0.01`, `0.1`, `1`, `10`) to improve classification accuracy.  \n",
    "\n",
    "3. **Train the optimized ComplementNB model** with the best `alpha` value.  \n",
    "\n",
    "4. **Make predictions** on the test set and assess model performance.  \n",
    "\n",
    "5. **Evaluate performance** using accuracy, precision, recall, and F1-score.  \n",
    "\n",
    "This process ensures the **best version of ComplementNB** is used for detecting spam effectively.\n"
   ]
  },
  {
   "cell_type": "code",
   "execution_count": null,
   "metadata": {},
   "outputs": [
    {
     "name": "stdout",
     "output_type": "stream",
     "text": [
      "Best alpha: 0.01\n",
      "\n",
      "Fine-Tuned Complement Naïve Bayes Accuracy: 0.7166\n",
      "\n",
      "Classification Report:\n",
      "               precision    recall  f1-score   support\n",
      "\n",
      "           0       0.51      0.94      0.66      8827\n",
      "           1       0.96      0.62      0.76     21173\n",
      "\n",
      "    accuracy                           0.72     30000\n",
      "   macro avg       0.74      0.78      0.71     30000\n",
      "weighted avg       0.83      0.72      0.73     30000\n",
      "\n",
      "\n",
      "Adjusted Complement Naïve Bayes Accuracy: 0.7382333333333333\n",
      "\n",
      "Classification Report with Adjusted Threshold:\n",
      "               precision    recall  f1-score   support\n",
      "\n",
      "           0       0.53      0.92      0.67      8827\n",
      "           1       0.95      0.66      0.78     21173\n",
      "\n",
      "    accuracy                           0.74     30000\n",
      "   macro avg       0.74      0.79      0.73     30000\n",
      "weighted avg       0.83      0.74      0.75     30000\n",
      "\n"
     ]
    }
   ],
   "source": [
    "# Import necessary libraries\n",
    "import numpy as np\n",
    "from sklearn.model_selection import train_test_split, GridSearchCV\n",
    "from sklearn.naive_bayes import ComplementNB\n",
    "from sklearn.metrics import accuracy_score, classification_report\n",
    "\n",
    "# Define the features to use\n",
    "features = [\n",
    "    \"num_words\", \"num_links\", \"num_attachments\", \"num_suspicious_attachments\",\n",
    "    \"has_html\", \"spam_score\", \"num_suspicious_links\", \"is_fake_domain\",\n",
    "    \"is_missing_to\", \"num_recipients\", \"num_subject_words\"\n",
    "]\n",
    "\n",
    "# Select features and target variable\n",
    "X = df[features]\n",
    "y = df['label']\n",
    "\n",
    "# **Step 1: Train-Test Split (No Scaling)**\n",
    "X_train, X_test, y_train, y_test = train_test_split(\n",
    "    X, y, test_size=0.2, random_state=42, stratify=y\n",
    ")\n",
    "\n",
    "# **Step 2: Hyperparameter Tuning (`alpha` in ComplementNB)**\n",
    "param_grid = {'alpha': [0.01, 0.1, 1, 10]}  # Alpha controls additive smoothing\n",
    "grid_search_nb = GridSearchCV(ComplementNB(), param_grid, cv=5, scoring='accuracy', n_jobs=-1)\n",
    "grid_search_nb.fit(X_train, y_train)\n",
    "\n",
    "# Best parameter\n",
    "best_alpha = grid_search_nb.best_params_['alpha']\n",
    "print(f\"Best alpha: {best_alpha}\")\n",
    "\n",
    "# **Step 3: Train Final ComplementNB Model with Best Parameters**\n",
    "nb_model = ComplementNB(alpha=best_alpha)\n",
    "nb_model.fit(X_train, y_train)\n",
    "\n",
    "# **Step 4: Make Predictions**\n",
    "y_pred = nb_model.predict(X_test)\n",
    "\n",
    "# **Step 5: Evaluate Model Performance**\n",
    "print(\"\\nFine-Tuned Complement Naïve Bayes Accuracy:\", accuracy_score(y_test, y_pred))\n",
    "print(\"\\nClassification Report:\\n\", classification_report(y_test, y_pred))"
   ]
  },
  {
   "cell_type": "markdown",
   "metadata": {},
   "source": [
    "# Machine Learning Model for Spam Detection\n",
    "\n",
    "This script trains and evaluates two machine learning models: **Logistic Regression** and **Complement Naïve Bayes (ComplementNB)** to classify emails as **spam or safe**.\n",
    "\n",
    "## Steps:\n",
    "\n",
    "1. **Load and preprocess the dataset**  \n",
    "   - Selects relevant features such as word count, links, attachments, and spam scores.  \n",
    "   - Splits the data into training and test sets while maintaining class balance.  \n",
    "\n",
    "2. **Feature Scaling**  \n",
    "   - Standardizes numerical values for **Logistic Regression** to improve convergence.  \n",
    "   - **ComplementNB** is trained on raw (unscaled) data since it performs better without scaling.  \n",
    "\n",
    "3. **Train the models**  \n",
    "   - **Logistic Regression:** Optimized with `C=10`, `solver='saga'`, and `max_iter=2000`.  \n",
    "   - **ComplementNB:** Uses `alpha=0.01` for additive smoothing to improve handling of imbalanced data.  \n",
    "\n",
    "4. **Make predictions** on the test data and evaluate performance using accuracy, precision, recall, and F1-score.  \n",
    "\n",
    "5. **Plot key evaluation metrics**  \n",
    "   - **AUC-ROC Curve:** Measures the model's ability to distinguish between spam and safe emails.  \n",
    "   - **Precision-Recall Curve:** Evaluates model effectiveness for imbalanced datasets.  \n",
    "\n",
    "This approach helps determine which model is **more effective for spam detection** and whether further fine-tuning is needed.\n"
   ]
  },
  {
   "cell_type": "code",
   "execution_count": 19,
   "metadata": {},
   "outputs": [
    {
     "name": "stdout",
     "output_type": "stream",
     "text": [
      "Model saved as ../logistic_regression_model.pkl\n",
      "\n",
      "📌 Logistic Regression Accuracy: 0.8717666666666667\n",
      "              precision    recall  f1-score   support\n",
      "\n",
      "           0       0.80      0.75      0.77      8827\n",
      "           1       0.90      0.92      0.91     21173\n",
      "\n",
      "    accuracy                           0.87     30000\n",
      "   macro avg       0.85      0.84      0.84     30000\n",
      "weighted avg       0.87      0.87      0.87     30000\n",
      "\n",
      "\n",
      "📌 ComplementNB Accuracy: 0.7166\n",
      "              precision    recall  f1-score   support\n",
      "\n",
      "           0       0.51      0.94      0.66      8827\n",
      "           1       0.96      0.62      0.76     21173\n",
      "\n",
      "    accuracy                           0.72     30000\n",
      "   macro avg       0.74      0.78      0.71     30000\n",
      "weighted avg       0.83      0.72      0.73     30000\n",
      "\n"
     ]
    },
    {
     "data": {
      "image/png": "[encoded data removed]",
      "text/plain": [
       "<Figure size 1000x600 with 1 Axes>"
      ]
     },
     "metadata": {},
     "output_type": "display_data"
    },
    {
     "data": {
      "image/png": "[encoded data removed]",
      "text/plain": [
       "<Figure size 1000x600 with 1 Axes>"
      ]
     },
     "metadata": {},
     "output_type": "display_data"
    }
   ],
   "source": [
    "# Import necessary libraries\n",
    "import numpy as np\n",
    "import matplotlib.pyplot as plt\n",
    "from sklearn.preprocessing import StandardScaler\n",
    "from sklearn.model_selection import train_test_split\n",
    "from sklearn.naive_bayes import GaussianNB, ComplementNB\n",
    "from sklearn.linear_model import LogisticRegression\n",
    "from sklearn.metrics import (\n",
    "    accuracy_score, classification_report, roc_curve, auc, precision_recall_curve\n",
    ")\n",
    "\n",
    "# Define the features to use\n",
    "features = [\n",
    "    \"num_words\", \"num_links\", \"num_attachments\", \"num_suspicious_attachments\",\n",
    "    \"has_html\", \"spam_score\", \"num_suspicious_links\", \"is_fake_domain\",\n",
    "    \"is_missing_to\", \"num_recipients\", \"num_subject_words\"\n",
    "]\n",
    "\n",
    "# Select features and target variable\n",
    "X = df[features]\n",
    "y = df['label']\n",
    "\n",
    "# Train-Test Split (No Scaling for Naïve Bayes, Scaling for Logistic Regression)\n",
    "X_train, X_test, y_train, y_test = train_test_split(\n",
    "    X, y, test_size=0.2, random_state=42, stratify=y\n",
    ")\n",
    "\n",
    "# Scale features only for Logistic Regression\n",
    "scaler = StandardScaler()\n",
    "X_train_scaled = scaler.fit_transform(X_train)\n",
    "X_test_scaled = scaler.transform(X_test)\n",
    "\n",
    "# **Train Models**\n",
    "log_model = LogisticRegression(C=10, solver='saga', max_iter=2000)\n",
    "log_model.fit(X_train_scaled, y_train)\n",
    "save_model(log_model, \"../logistic_regression_model.pkl\")\n",
    "\n",
    "# gauss_nb_model = GaussianNB(var_smoothing=1e-7)\n",
    "# gauss_nb_model.fit(X_train, y_train)\n",
    "\n",
    "comp_nb_model = ComplementNB(alpha=0.01)\n",
    "comp_nb_model.fit(X_train, y_train)\n",
    "\n",
    "# **Predictions & Probabilities**\n",
    "y_pred_log = log_model.predict(X_test_scaled)\n",
    "# y_pred_gauss = gauss_nb_model.predict(X_test)\n",
    "y_pred_comp = comp_nb_model.predict(X_test)\n",
    "\n",
    "y_probs_log = log_model.predict_proba(X_test_scaled)[:, 1]\n",
    "# y_probs_gauss = gauss_nb_model.predict_proba(X_test)[:, 1]\n",
    "y_probs_comp = comp_nb_model.predict_proba(X_test)[:, 1]\n",
    "\n",
    "# **Performance Metrics**\n",
    "print(\"\\n📌 Logistic Regression Accuracy:\", accuracy_score(y_test, y_pred_log))\n",
    "print(classification_report(y_test, y_pred_log))\n",
    "\n",
    "# print(\"\\n📌 GaussianNB Accuracy:\", accuracy_score(y_test, y_pred_gauss))\n",
    "# print(classification_report(y_test, y_pred_gauss))\n",
    "\n",
    "print(\"\\n📌 ComplementNB Accuracy:\", accuracy_score(y_test, y_pred_comp))\n",
    "print(classification_report(y_test, y_pred_comp))\n",
    "\n",
    "# **Plot AUC-ROC Curves**\n",
    "plt.figure(figsize=(10, 6))\n",
    "\n",
    "fpr_log, tpr_log, _ = roc_curve(y_test, y_probs_log)\n",
    "# fpr_gauss, tpr_gauss, _ = roc_curve(y_test, y_probs_gauss)\n",
    "fpr_comp, tpr_comp, _ = roc_curve(y_test, y_probs_comp)\n",
    "\n",
    "plt.plot(fpr_log, tpr_log, label=f'Logistic Regression (AUC={auc(fpr_log, tpr_log):.3f})')\n",
    "# plt.plot(fpr_gauss, tpr_gauss, label=f'GaussianNB (AUC={auc(fpr_gauss, tpr_gauss):.3f})')\n",
    "plt.plot(fpr_comp, tpr_comp, label=f'ComplementNB (AUC={auc(fpr_comp, tpr_comp):.3f})')\n",
    "\n",
    "plt.plot([0, 1], [0, 1], linestyle=\"--\", color=\"gray\")\n",
    "plt.xlabel(\"False Positive Rate\")\n",
    "plt.ylabel(\"True Positive Rate\")\n",
    "plt.title(\"AUC-ROC Curve\")\n",
    "plt.legend()\n",
    "plt.show()\n",
    "\n",
    "# **Plot Precision-Recall Curves**\n",
    "plt.figure(figsize=(10, 6))\n",
    "\n",
    "prec_log, recall_log, _ = precision_recall_curve(y_test, y_probs_log)\n",
    "# prec_gauss, recall_gauss, _ = precision_recall_curve(y_test, y_probs_gauss)\n",
    "prec_comp, recall_comp, _ = precision_recall_curve(y_test, y_probs_comp)\n",
    "\n",
    "plt.plot(recall_log, prec_log, label=f'Logistic Regression (AP={auc(recall_log, prec_log):.3f})')\n",
    "# plt.plot(recall_gauss, prec_gauss, label=f'GaussianNB (AP={auc(recall_gauss, prec_gauss):.3f})')\n",
    "plt.plot(recall_comp, prec_comp, label=f'ComplementNB (AP={auc(recall_comp, prec_comp):.3f})')\n",
    "\n",
    "plt.xlabel(\"Recall\")\n",
    "plt.ylabel(\"Precision\")\n",
    "plt.title(\"Precision-Recall Curve\")\n",
    "plt.legend()\n",
    "plt.show()\n"
   ]
  },
  {
   "cell_type": "markdown",
   "metadata": {},
   "source": [
    "## 💾 Saving & Loading Machine Learning Models  \n",
    "\n",
    "### 🔍 Overview  \n",
    "These functions allow us to **save and load machine learning models** using **Pickle**, ensuring that models can be stored and reused without retraining.\n",
    "\n",
    "### ⚡ Key Features  \n",
    "✔ **Efficient Model Storage** – Saves trained models as `.pkl` files for future use.  \n",
    "✔ **Quick Model Loading** – Loads previously saved models instantly without retraining.  \n",
    "✔ **Reusable in Deployment** – Helps integrate models into **APIs, applications, or production environments**.  \n",
    "\n",
    "### 🚀 Why This is Important?  \n",
    "- **Saves Time & Compute Resources** – No need to retrain the model every time.  \n",
    "- **Makes Deployment Easier** – The saved model can be **directly used in an API or UI**.  \n",
    "- **Supports Model Versioning** – Enables **storing multiple trained models** for comparison and improvements.  \n",
    "\n",
    "💡 **Next Step:** Use `save_model()` to store trained models and `load_model()` to deploy them in a **real-world spam detection system**! 🚀  \n"
   ]
  },
  {
   "cell_type": "code",
   "execution_count": 18,
   "metadata": {},
   "outputs": [],
   "source": [
    "import pickle\n",
    "\n",
    "# Function to save a model\n",
    "def save_model(model, filename):\n",
    "    with open(filename, 'wb') as file:\n",
    "        pickle.dump(model, file)\n",
    "    print(f\"Model saved as {filename}\")\n",
    "\n",
    "# Function to load a model\n",
    "def load_model(filename):\n",
    "    with open(filename, 'rb') as file:\n",
    "        model = pickle.load(file)\n",
    "    print(f\"Model loaded from {filename}\")\n",
    "    return model"
   ]
  },
  {
   "cell_type": "markdown",
   "metadata": {},
   "source": [
    "## 💾 Saving the Trained Spam Classifier  \n",
    "\n",
    "### 🔍 Overview  \n",
    "This step **saves the trained machine learning model** as a `.pkl` file so that it can be reused without retraining.  \n",
    "\n",
    "### ⚡ Key Benefits  \n",
    "✔ **Prevents Retraining** – No need to train the model from scratch every time.  \n",
    "✔ **Enables Deployment** – The saved model can be **integrated into APIs or applications**.  \n",
    "✔ **Supports Model Versioning** – Allows saving different versions for performance comparison.  \n",
    "\n",
    "### 🚀 Why This is Important?  \n",
    "- **Makes Spam Detection Efficient** – Load the trained model instantly for predictions.  \n",
    "- **Deployable in Real-Time Systems** – Can be used in **email filtering applications**.  \n",
    "- **Facilitates Continuous Improvement** – Store and compare different trained models.  \n",
    "\n",
    "💡 **Next Step:** Load the model in an API or UI to classify emails in real time! 🚀  \n"
   ]
  },
  {
   "cell_type": "code",
   "execution_count": null,
   "metadata": {},
   "outputs": [],
   "source": [
    "save_model(model, \"spam_classifier.pkl\")"
   ]
  },
  {
   "cell_type": "markdown",
   "metadata": {},
   "source": [
    "## 🤖 Automating Email Spam Detection with Machine Learning  \n",
    "\n",
    "### 🔍 Overview  \n",
    "This pipeline **automates spam detection** by processing raw email text, extracting relevant features, and classifying emails using a **pre-trained machine learning model**.\n",
    "\n",
    "### ⚡ Key Features  \n",
    "✔ **Feature Extraction** – Converts raw emails into structured features like **word count, number of links, HTML presence, suspicious domains, and attachments**.  \n",
    "✔ **Machine Learning Pipeline** – Uses `sklearn.Pipeline` to seamlessly **transform input data and classify it**.  \n",
    "✔ **Pre-Trained Model Integration** – Loads a **previously trained spam classifier** (`spam_classifier.pkl`) to make real-time predictions.  \n",
    "\n",
    "### 🚀 How It Works  \n",
    "1️⃣ **Extracts email metadata** (sender, recipient, subject, body, date).  \n",
    "2️⃣ **Computes security-related features** (spam score, suspicious links, fake domains).  \n",
    "3️⃣ **Feeds extracted features into the trained model** for prediction.  \n",
    "4️⃣ **Classifies the email as spam (1) or not spam (0)**.  \n",
    "\n",
    "### 🛡️ Real-World Application  \n",
    "- **Detects phishing attempts** with scam links and fake domains.  \n",
    "- **Improves email security** by flagging high-risk emails.  \n",
    "- **Can be integrated into a web or API-based spam filter**.  \n",
    "\n",
    "💡 **Next Step:** Deploy this pipeline in a **Flask API or UI** for real-time spam detection! 🚀  \n"
   ]
  },
  {
   "cell_type": "code",
   "execution_count": 27,
   "metadata": {},
   "outputs": [
    {
     "name": "stdout",
     "output_type": "stream",
     "text": [
      "Model loaded from spam_classifier.pkl\n",
      "Spam Prediction: [1]\n"
     ]
    }
   ],
   "source": [
    "from uuid import uuid4\n",
    "from sklearn.pipeline import Pipeline\n",
    "from sklearn.linear_model import LogisticRegression\n",
    "from sklearn.preprocessing import FunctionTransformer\n",
    "import pickle\n",
    "\n",
    "\n",
    "def transform_email(message_text):\n",
    "    \"\"\"Transforms an email message into a DataFrame of features\"\"\"\n",
    "\n",
    "    features = [\n",
    "    \"num_words\", \"num_links\", \"num_attachments\", \"num_suspicious_attachments\",\n",
    "    \"has_html\", \"spam_score\", \"num_suspicious_links\", \"is_fake_domain\",\n",
    "    \"is_missing_to\", \"num_recipients\", \"num_subject_words\"\n",
    "]\n",
    "    email_text = message_text[0].strip()\n",
    "    headers = extract_headers(email_text)\n",
    "    \n",
    "    data = {\n",
    "        \"email_id\": str(uuid4()),  # Generate a unique ID\n",
    "        \"from\": headers[\"from\"],\n",
    "        \"to\": headers[\"to\"],\n",
    "        \"subject\": headers[\"subject\"],\n",
    "        \"date\": headers[\"date\"],\n",
    "        \"body\": headers[\"body\"],\n",
    "        \"num_words\": count_words(email_text),\n",
    "        \"num_links\": count_links_and_domains(email_text),\n",
    "        \"num_attachments\": count_attachments(email_text),\n",
    "        \"num_suspicious_attachments\": count_suspicious_attachments(email_text),\n",
    "        \"has_html\": has_html(email_text),\n",
    "        \"spam_score\": spam_score(email_text),\n",
    "        \"num_suspicious_links\": count_suspicious_links(email_text),\n",
    "        \"is_fake_domain\": is_fake_domain(email_text),\n",
    "        \"is_missing_to\": is_missing_to(email_text),\n",
    "        \"num_recipients\": count_recipients(email_text),\n",
    "        \"num_subject_words\": count_subject_words(email_text),\n",
    "    }\n",
    "    return pd.DataFrame([data])[features].astype(int)\n",
    "\n",
    "\n",
    "# Define a pipeline to process emails\n",
    "email_pipeline = Pipeline([\n",
    "    (\"transformer\", FunctionTransformer(transform_email)),\n",
    "    (\"classifier\", load_model(\"spam_classifier.pkl\"))  # Load a pre-trained model\n",
    "])\n",
    "\n",
    "\n",
    "email_text = \"\"\"From: \"Mega Lottery\" <win@lotteryprize.com>\n",
    "To: \"Lucky Winner\" <victim@example.com>\n",
    "Subject: 🎉 Congratulations! You've Won $1,000,000! 🎉\n",
    "MIME-Version: 1.0\n",
    "Content-Type: text/html; charset=UTF-8\n",
    "\n",
    "<html>\n",
    "<body>\n",
    "    <h2 style=\"color:red;\">Congratulations!</h2>\n",
    "    <p>Dear Valued User,</p>\n",
    "    <p>You have been randomly selected as the <strong>grand prize winner</strong> of our \n",
    "    <b>$1,000,000 Mega Lottery!</b></p>\n",
    "\n",
    "    <p>To claim your winnings, you must <b>verify your identity</b> by clicking the link below:</p>\n",
    "    \n",
    "    <p><a href=\"http://scamwebsite.com/claim-prize\" style=\"color:blue; font-size:18px;\">Claim Your Prize Now</a></p>\n",
    "\n",
    "    <p>Hurry! This offer expires in <b>24 hours</b>!</p>\n",
    "\n",
    "    <p>For security reasons, do not share this email.</p>\n",
    "    \n",
    "    <p>Best Regards,<br>\n",
    "    <i>Mega Lottery Claims Department</i></p>\n",
    "</body>\n",
    "</html>\n",
    "\"\"\"\n",
    "\n",
    "prediction = email_pipeline.predict([email_text])  # Predict spam or not\n",
    "print(\"Spam Prediction:\", prediction)\n"
   ]
  }
 ],
 "metadata": {
  "kernelspec": {
   "display_name": "venv",
   "language": "python",
   "name": "python3"
  },
  "language_info": {
   "codemirror_mode": {
    "name": "ipython",
    "version": 3
   },
   "file_extension": ".py",
   "mimetype": "text/x-python",
   "name": "python",
   "nbconvert_exporter": "python",
   "pygments_lexer": "ipython3",
   "version": "3.8.10"
  }
 },
 "nbformat": 4,
 "nbformat_minor": 2
}
